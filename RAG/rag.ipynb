{
 "cells": [
  {
   "cell_type": "markdown",
   "metadata": {},
   "source": [
    "## RAG"
   ]
  },
  {
   "cell_type": "markdown",
   "metadata": {},
   "source": [
    "RAG stands for **Retrieval-Augmented Generation**. It is a framework that combines the strengths of **retrieval-based systems** and **generative models** to improve the quality and relevance of responses in natural language tasks."
   ]
  },
  {
   "cell_type": "markdown",
   "metadata": {},
   "source": [
    "## Purpose"
   ]
  },
  {
   "cell_type": "markdown",
   "metadata": {},
   "source": [
    "Create RAG application for question answering over a document. These include extracting information, retrieving the relevant context, and utilizing this context to generate accurate results.\n",
    "\n",
    "<img src='https://miro.medium.com/v2/resize:fit:1100/format:webp/0*hikPIs0EQ1CJ4qrz' width=500>\n",
    "\n",
    "\n",
    "Typical RAG Application\n",
    "\n",
    "Step 1: extract information from this document.\n",
    "\n",
    "Step 2: break the document into smaller chunks, to fit into LLM context windows.\n",
    "\n",
    "Step 3: two strategies to save documents for future retrieval:\n",
    "- store the text as-is for keyword based retrieval.\n",
    "- convert text into vector embeddings, for more efficient retrieval.\n",
    "\n",
    "Step 4: save this to a relevant database.\n",
    "\n",
    "Step 5: obtain relevant chunks based on user inputs.\n",
    "\n",
    "Step 6: incorporate relevant document chunks as part of LLM context, for generating the output.\n",
    "\n",
    "`Note:` \n",
    "- Steps 1 - 4 are referred to as the indexing pipeline, wherein documents are indexed in a database offline, prior to user interactions. \n",
    "- Steps 5 - 6 happen in real-time as the user is querying the application.\n"
   ]
  },
  {
   "cell_type": "code",
   "execution_count": null,
   "metadata": {},
   "outputs": [],
   "source": [
    "import requests\n",
    "import fitz # PyMuPDF\n",
    "import io\n",
    "\n",
    "url = \"https://s2.q4cdn.com/299287126/files/doc_financials/2023/q1/Q1-2023-Amazon-Earnings-Release.pdf\"\n",
    "request = requests.get(url)\n",
    "# request.content"
   ]
  },
  {
   "cell_type": "code",
   "execution_count": 44,
   "metadata": {},
   "outputs": [
    {
     "data": {
      "text/plain": [
       "['AMAZON.COM ANNOUNCES FIRST QUARTER RESULTS\\nSEATTLE—(BUSINESS WIRE) April 27, 2023—Amazon.com, Inc. (NASDAQ: AMZN) today announced financial results \\nfor its first quarter ended March 31, 2023. \\n•\\nNet sales increased 9% to $127.4 billion in the first quarter, compared with $116.4 billion in first quarter 2022.\\nExcluding the $2.4 billion unfavorable impact from year-over-year changes in foreign exchange rates throughout the\\nquarter, net sales increased 11% compared with first quarter 2022.\\n•\\nNorth America segment sales increased 11% year-over-year to $76.9 billion.\\n•\\nInternational segment sales increased 1% year-over-year to $29.1 billion, or increased 9% excluding changes\\nin foreign exchange rates.\\n•\\nAWS segment sales increased 16% year-over-year to $21.4 billion.\\n•\\nOperating income increased to $4.8 billion in the first quarter, compared with $3.7 billion in first quarter 2022. First\\nquarter 2023 operating income includes approximately $0.5 billion of charges related to estimated severance costs.\\n•\\nNorth America segment operating income was $0.9 billion, compared with operating loss of $1.6 billion in\\nfirst quarter 2022.\\n•\\nInternational segment operating loss was $1.2 billion, compared with operating loss of $1.3 billion in first\\nquarter 2022.\\n•\\nAWS segment operating income was $5.1 billion, compared with operating income of $6.5 billion in first\\nquarter 2022.\\n•\\nNet income was $3.2 billion in the first quarter, or $0.31 per diluted share, compared with net loss of $3.8 billion, or\\n$0.38 per diluted share, in first quarter 2022. All share and per share information for comparable prior year periods\\nthroughout this release have been retroactively adjusted to reflect the 20-for-1 stock split effected on May 27, 2022.\\n•\\nFirst quarter 2023 net income includes a pre-tax valuation loss of $0.5 billion included in non-operating\\nexpense from the common stock investment in Rivian Automotive, Inc., compared to a pre-tax valuation loss\\nof $7.6 billion from the investment in first quarter 2022.\\n•\\nOperating cash flow increased 38% to $54.3 billion for the trailing twelve months, compared with $39.3 billion for\\nthe trailing twelve months ended March 31, 2022.\\n•\\nFree cash flow improved to an outflow of $3.3 billion for the trailing twelve months, compared with an outflow of\\n$18.6 billion for the trailing twelve months ended March 31, 2022.\\n•\\nFree cash flow less principal repayments of finance leases and financing obligations improved to an outflow of\\n$10.1 billion for the trailing twelve months, compared with an outflow of $29.3 billion for the trailing twelve months\\nended March 31, 2022.\\n•\\nFree cash flow less equipment finance leases and principal repayments of all other finance leases and financing\\nobligations improved to an outflow of $4.5 billion for the trailing twelve months, compared with an outflow of $22.3\\nbillion for the trailing twelve months ended March 31, 2022.\\n',\n",
       " '“There’s a lot to like about how our teams are delivering for customers, particularly amidst an uncertain economy,” said Andy \\nJassy, Amazon CEO. “Our Stores business is continuing to improve the cost to serve in our fulfillment network while \\nincreasing the speed with which we get products into the hands of customers (we expect to have our fastest Prime delivery \\nspeeds ever in 2023). Our Advertising business continues to deliver robust growth, largely due to our ongoing machine learning \\ninvestments that help customers see relevant information when they engage with us, which in turn delivers unusually strong \\nresults for brands. And, while our AWS business navigates companies spending more cautiously in this macro environment, we \\ncontinue to prioritize building long-term customer relationships both by helping customers save money and enabling them to \\nmore easily leverage technologies like Large Language Models and Generative AI with our uniquely cost-effective machine \\nlearning chips (“Trainium” and “Inferentia”), managed Large Language Models (“Bedrock”), and AI code companion \\nCodeWhisperer. We like the fundamentals we’re seeing in AWS, and believe there’s much growth ahead.”\\nHighlights\\nObsessing over the customer experience\\nAmazon obsesses over how to make customers’ lives better and easier every day. This is true for consumers, sellers, brands, \\ndevelopers, enterprises, and creators. For example, in the past quarter, Amazon:\\n•\\nContinued to delight customers with convenient delivery options and broad selection. Nearly 26 million customers \\nordered items with Same-Day Delivery in the quarter, an increase of 50% compared to last year. \\n•\\nIncreased selection in its U.S. online store with the addition of new marquee beauty, home, and fashion brands, \\nincluding Lancôme, Shiseido, World of Martha by Martha Stewart, Rent the Runway, KNOW Beauty by Vanessa \\nHudgens, as well as new The Drop collections from Harlem Fashion Row and Coco & Breezy. The Drop offers \\ncustomers access to limited-edition, made-on-demand clothing collections by fashion influencers.  \\n•\\nLaunched a new Fulfillment by Amazon (FBA) capacity management system to help sellers who use Amazon’s \\nstorage, packing, and shipping fulfillment service to manage their inventory and capacity more efficiently as they scale \\ntheir businesses. The management system provides sellers with more insight, predictability, visibility, and control to \\nbetter plan and manage their inventory and supply chains, as well as increase capacity limits when needed.\\n•\\nReleased the third annual Brand Protection Report highlighting the company’s efforts to protect customers, brands, and \\nselling partners from counterfeit products in 2022. The efforts resulted in more seized products, criminal referrals, and \\nindustry partnerships than ever before. The report demonstrates how Amazon is stopping bad actors and making an \\nimpact beyond Amazon’s store, including by identifying, seizing, and appropriately disposing of more than 6 million \\ncounterfeit products, preventing them from reaching customers and being resold elsewhere in the global supply chain.\\n•\\nLaunched Reviews from Amazon, a new capability that enables Buy with Prime merchants to display customer ratings \\nand reviews from Amazon.com within their own online stores at no additional cost. Nearly 20% of Buy with Prime \\nmerchants are already using this feature, and the early feedback is that it’s helping merchants drive higher shopper \\nconversion.\\n•\\nAcquired One Medical, a primary care organization offering both 24/7 virtual care services and in-office visits across \\nthe U.S. for preventive and everyday health, chronic care management, pediatric care, and mental health services. For \\na limited time, One Medical is offering annual memberships to new customers at the discounted price of $144 for the \\nfirst year (regularly $199/year), the equivalent of $12 per month. \\n•\\nAnnounced that Prime Video will exclusively present the first-ever “Black Friday” National Football League game on \\nNovember 24. The game will be available for all fans to stream for free in the U.S. without a Prime membership. \\n•\\nSet box-office records with MGM’s premiere of Creed III, directed by and starring Michael B. Jordan. The movie \\ngrossed $100.4 million globally in its opening weekend—the best U.S. debut for any sports film in history. It also had \\nthe biggest global box office gross of any of the Creed titles, at over $250 million to date, and is still opening in \\nterritories around the world. In addition, filmmaker Sarah Polley won the Academy Award for Best Adapted \\nScreenplay for MGM’s Women Talking.\\n•\\nPremiered Amazon Original limited series Daisy Jones & The Six, based on the New York Times best-selling novel, \\nwhich debuted at No. 1 on Prime Video globally. Within 24 hours of release, the show’s soundtrack was the No. 1 \\nselling vinyl on Amazon, and the novel the series is based on also reached No. 1 on the Amazon Best Sellers List for \\nall books. The company debuted additional Amazon Original films and series, including action comedy Shotgun \\nWedding, starring Jennifer Lopez and Josh Duhamel; romantic comedy Somebody I Used to Know, directed by Dave \\nFranco; comedic thriller The Consultant, starring Christoph Waltz; and Swarm, from co-creator and executive \\nproducer Donald Glover.\\n',\n",
       " '•\\nWon four Ambies, the premier podcasting award, for Amazon Music and Wondery podcasts I Hear Fear (Best \\nScriptwriting, Fiction), Business Wars (Best Business Podcast), The Lead (Best Sports Podcast), and Scamfluencers \\n(Best Entertainment Podcast).\\n•\\nAnnounced new commitments and migrations from AWS customers.\\n•\\nSouthwest Airlines selected AWS as its preferred cloud provider for a large-scale modernization as part of the \\nairline’s long-term plan to optimize airline operations, streamline infrastructure costs, and provide a more \\nseamless and enjoyable travel experience to customers. \\n•\\nZurich Insurance Group is moving its enterprise information technology infrastructure, including 1,000 \\napplications over the next three years, to AWS to deliver new digital customer experiences and drive \\nautomation at scale. \\n•\\nBBVA is employing AWS’s extensive portfolio of cloud services to launch new financial solutions that will \\nhelp BBVA Corporate and Investment Banking expand its business to accelerate innovation, reduce costs, \\nscale quickly, and increase flexibility. \\n•\\nBroadridge’s LTX electronic trading platform completed a successful migration of its corporate bond e-\\ntrading platform to AWS. \\n•\\nS&P Global and AWS announced a multiyear strategic collaboration to extend the delivery of advanced, \\nsecure, cloud-based services to more than 100,000 of S&P Global’s government and enterprise customers in \\n43 countries around the world. \\n•\\nSnowflake and AWS announced a new commitment to build joint industry-specific solutions, increase sales \\ncollaboration, and deepen product integration, including further streamlining running Snowflake on Graviton \\nprocessors. Approximately 84% of Snowflake’s customers run their deployments on AWS to rapidly \\ninnovate. \\n•\\nStripe announced a new global agreement to run virtually all their infrastructure on AWS while reliably \\nserving millions of internet companies. \\n•\\nWestpac, one of Australia’s leading banks, expanded its collaboration with AWS through a new five-year \\nagreement that will tap into advanced AWS capabilities, like machine learning, compute, and data analytics, \\nto further accelerate the bank’s digital transformation, drive cost efficiencies, and personalize its banking \\napplications. \\n•\\nT-Mobile is integrating its 5G Advanced Network Solutions portfolio with AWS to help customers more \\neasily discover, customize, and deploy 5G edge computing.\\n•\\nMarvell selected AWS to rapidly scale its electronic design automation in the cloud to address increasingly \\ncomplex chip design processes and deliver continuous innovation for expanding needs across the automotive, \\ncarrier, data center, and enterprise infrastructure markets. \\n•\\nTELUS, one of Canada’s leading telecommunications providers, is collaborating with AWS to develop a new \\nsmart-living solution that will reduce the need for multiple smart-home apps, simplify installation, and enable \\nnew multidevice automation. \\n•\\nIberdrola, one of the world’s largest clean energy companies, selected AWS as its preferred cloud provider to \\nsupport the energy company as it embarks on further digitalization to enable smarter grids, customer \\nengagement, and connected clean power. \\n•\\nAnnounced plans to open a new AWS Region in Malaysia and launched a second AWS Region in Australia to \\ncontinue expanding AWS’s infrastructure footprint, delivering the most secure, extensive, and reliable cloud \\ntechnology to millions of customers around the world. \\nInventing on behalf of customers\\nAmazon is driven by a passion for invention across all of its business areas. The company builds new products and services that \\ncustomers ask for, and also invents new ones that customers didn’t know they wanted but make their lives or businesses better \\nin some meaningful way. For example, this past quarter, Amazon: \\n•\\nAnnounced new AWS tools that make building with generative artificial intelligence (AI) easy, practical, and cost-\\neffective for organizations of all sizes. The tools include:\\n•\\nAmazon Bedrock, a new managed service that offers customers the easiest way to build and scale enterprise-\\nready generative AI applications. Amazon Bedrock provides easy access to leading foundation models (ultra-\\n',\n",
       " 'large machine learning models that generative AI relies on) from AI startups like AI21 Labs, Anthropic, and \\nStability AI, as well as exclusive access to the Titan family of foundation models developed by AWS. Broad \\naccess to models gives customers flexibility and choice to customize and scale to their specific needs.\\n•\\nTwo next-generation compute offerings to deliver the lowest cost for training models and running inference in \\nthe cloud: the general availability of instances powered by AWS-designed Inferentia2 chips, AWS’s second-\\ngeneration accelerator, purpose-built for deep learning inference, as well as the general availability of \\nnetwork-optimized Trn1n instances for large, network-intensive models. Compared to other EC2 instances, \\nInferentia2 provides up to 40% better inference price performance, and Trainium delivers up to 50% savings \\non training costs.\\n•\\nGeneral availability of Amazon CodeWhisperer, an AI coding companion that improves developer \\nproductivity by generating code suggestions in real time. Amazon CodeWhisperer is free for individual \\ndevelopers. CodeWhisperer is the most accurate, fastest, and most secure way to generate code for AWS \\nservices, including Amazon EC2, AWS Lambda, and Amazon S3. During a productivity challenge, \\nparticipants who used CodeWhisperer completed tasks 57% faster (on average) and were 27% more likely to \\ncomplete them successfully than those who didn’t use CodeWhisperer. \\n•\\nReceived Zoox’s driverless testing permit from the California Department of Motor Vehicles, marking a key step to \\ncommercializing the self-driving robotaxi for the general public. With this permit, Zoox completed an initial run of its \\nshuttle service for employees at its headquarters in Foster City, California, making it the first purpose-built robotaxi to \\noperate on public roads in California.\\n•\\nExpanded the Ring lineup with new devices. Ring Battery Doorbell Plus offers improved HD video and energy-saving \\nfeatures, and Ring Peephole Cam is an apartment and renter-friendly video doorbell that easily installs over an existing \\ndoor peephole.\\n•\\nExpanded the Amazon-built TV lineup with the Fire TV 2-Series, which makes getting an Alexa-enabled TV more \\naffordable than ever, and new sizes of the Omni QLED Series. The Omni QLED Series includes features so customers \\ncan see their schedule on the screen, control smart devices, and turn the TV into an in-home art gallery. Amazon has \\nsurpassed 200 million Fire TV devices sold globally. Amazon also launched Amazon-built TVs in Germany, Mexico, \\nand the UK, and collaborated with Cochlear to help people with hearing loss stream sound from their Amazon smart \\nTVs directly to their Cochlear hearing implants. \\n•\\nUnveiled three customer terminal designs for Project Kuiper, Amazon’s low Earth orbit satellite broadband initiative. \\nKuiper’s mission is to bridge the digital divide by providing fast, affordable broadband to communities worldwide that \\nare unserved or underserved by traditional technologies. To use Kuiper’s broadband, residential and commercial \\ncustomers will install an outdoor antenna, called a customer terminal, to communicate with satellites overhead. \\nAmazon is preparing to launch two prototype satellites to test the entire end-to-end communications network this year \\nand plans to be in beta with commercial customers in 2024.  \\n•\\nOpened Amazon Sidewalk to developer testing for the first time as part of the company’s vision to put a billion \\nInternet of Things (IoT) devices on the network. Amazon Sidewalk is a low-bandwidth, long-range community \\nnetwork that connects devices across long distances where Wi-Fi and Bluetooth signals often cannot reach. With \\nSidewalk coverage extending to 90% of the U.S. population, developers can now build and connect a new range of \\ndevices for the network.\\n•\\nLaunched a loyalty linking capability for Amazon One, Amazon’s palm recognition service that lets customers enter, \\nidentify, and pay. Panera is the first restaurant chain to offer the new loyalty linking capability, allowing customers to \\neasily enroll in and redeem rewards, and pay for their purchases with just their palm.\\nEmpowering employees and delivery service partners\\nIn addition to its focus on customers, Amazon strives to make every day better for its employees and delivery service partners. \\nFor example, in the first quarter, the company:\\n•\\nAnnounced plans to spend $200 million on safety technologies across Amazon’s U.S. transportation network in 2023. \\nThese innovations include front-collision warning, lane-departure warning, speed limiters, and 360-degree camera \\ndetection systems. They are part of Amazon’s work to ensure that vehicles and delivery partners are safe on the road, \\nand the innovations are better for the environment. \\n•\\nAnnounced that Amazon improved recordable incident rates worldwide by 11% from 2021 to 2022 and by almost 24% \\nfrom 2019 to 2022. The company shared the data in the second edition of its safety report, Delivered With Care, which \\ndetails how Amazon is advancing safety across its operations through investments in capital improvements, safety \\n',\n",
       " 'technology, vehicle safety controls, and engineered ergonomic solutions to reduce risks for employees, partners, and \\ncommunities.  \\n•\\nReached 1 billion packages handled by Robin, a robotic system used across Amazon’s operations network in the U.S., \\nCanada, and Europe. Robin robotic systems use artificial intelligence, computer vision, and machine learning to help \\nemployees handle and sort customer packages before shipment. For employees, this reduces the number of repetitive \\ntasks, improving safety and helping them focus their time and energy on activities that make better use of their talents.\\n•\\nRanked No. 2 on Fortune magazine’s World’s Most Admired Companies list for the seventh year in a row. The annual \\nranking is determined by a survey of top executives and analysts, and companies are evaluated on factors including the \\nquality of their management and products, commitments to social responsibility, and ability to attract talent.\\n•\\nIntroduced Leadership Liftoff, an onboarding program for operations area managers. New managers enrolled in the \\nprogram participate in group sessions, on-the-job training, and self-paced learning to help them gain skills and \\nconfidence to lead successful teams and foster connections between new leaders. \\nSupporting communities and protecting the environment\\nAmazon believes that success and scale bring broad responsibility to help the planet, future generations, and local communities \\nin which the company has a significant presence. Amazon employees have passion for investing in these areas, and a sampling \\nof the efforts from this past quarter are that Amazon: \\n•\\nActivated the company’s global logistics network to support communities impacted by earthquakes in Türkiye and \\nSyria. The company turned its fulfillment center in Istanbul into a Disaster Relief Hub and partnered with local \\norganizations to ship hundreds of thousands of relief items to affected regions. Amazon also made cash donations to \\nnon-governmental organizations and set up donation campaigns across 16 Amazon online stores globally to make it \\neasy for customers to support communities impacted by these earthquakes. \\n•\\nSet a record in 2022 for the most renewable energy purchased by a single company in one year. Amazon’s renewable \\nenergy portfolio now includes 164 wind and solar farms and 237 rooftop solar projects in 22 countries, totaling over 20 \\ngigawatts—an amount of energy that could power 5.3 million U.S. homes. Amazon has been the largest corporate \\nbuyer of renewable energy for three years running.\\n•\\nExpanded the use of electric delivery vehicles from Rivian, as part of the company’s commitment to dramatically \\nreduce its carbon emissions. These custom vans from Rivian have now been used to deliver more than 75 million \\npackages in 500 U.S. cities and regions. Amazon began rolling out its electric delivery vans in the summer of 2022 and \\nnow has thousands on the road.\\n•\\nAnnounced over $22 million in low-rate loans and grants to help build affordable homes in Washington, D.C., and \\nCapitol Heights, Maryland. Since creating the Housing Equity Fund in 2021, Amazon has committed nearly $1.6 \\nbillion to help create or preserve affordable homes across Amazon’s hometown communities.\\n•\\nAnnounced funding for 8,000 U.S. schools to provide access to computer science education to more than 2 million \\nstudents by the end of the 2022-2023 academic year through Amazon Future Engineer. By providing professional \\ndevelopment for teachers, curriculum development, college scholarships, and internships, Amazon aims to inspire \\nmillions of students from underserved and historically underrepresented communities to pursue careers in science, \\ntechnology, engineering, and math (STEM). \\n•\\nLaunched the Zero Emission Maritime Buyers Alliance (ZEMBA) in partnership with the Aspen Institute, Patagonia, \\nand Tchibo. ZEMBA will work to reduce the climate impact of maritime shipping by helping to create sustainable \\neconomic models in renewable energy, zero-emission fuel production, infrastructure, and clean maritime services.\\n•\\nAnnounced that the Right Now Climate Fund is developing the world’s first commercial-scale seaweed farm located \\nbetween offshore wind turbines in the North Sea to help address climate change by absorbing carbon dioxide as it \\ngrows. The Fund is also helping to create and restore ecosystems for plants and animals as part of its commitment to \\nboost biodiversity and currently supports 22 rewilding initiatives in London.\\nFinancial Guidance\\nThe following forward-looking statements reflect Amazon.com’s expectations as of April 27, 2023, and are subject to \\nsubstantial uncertainty. Our results are inherently unpredictable and may be materially affected by many factors, such as \\nfluctuations in foreign exchange rates, changes in global economic and geopolitical conditions and customer demand and \\nspending (including the impact of recessionary fears), inflation, interest rates, regional labor market constraints, world events, \\nthe rate of growth of the Internet, online commerce, and cloud services, and the various factors detailed below. \\n',\n",
       " 'Second Quarter 2023 Guidance\\n•\\nNet sales are expected to be between $127.0 billion and $133.0 billion, or to grow between 5% and 10% compared \\nwith second quarter 2022. This guidance anticipates an unfavorable impact of approximately 30 basis points from \\nforeign exchange rates. \\n•\\nOperating income is expected to be between $2.0 billion and $5.5 billion, compared with $3.3 billion in second quarter \\n2022.  \\n•\\nThis guidance assumes, among other things, that no additional business acquisitions, restructurings, or legal \\nsettlements are concluded.\\nA conference call will be webcast live today at 2:30 p.m. PT/5:30 p.m. ET, and will be available for at least three months at \\namazon.com/ir. This call will contain forward-looking statements and other material information regarding the Company’s \\nfinancial and operating results.\\nThese forward-looking statements are inherently difficult to predict. Actual results and outcomes could differ materially for a \\nvariety of reasons, including, in addition to the factors discussed above, the amount that Amazon.com invests in new business \\nopportunities and the timing of those investments, the mix of products and services sold to customers, the mix of net sales \\nderived from products as compared with services, the extent to which we owe income or other taxes, competition, management \\nof growth, potential fluctuations in operating results, international growth and expansion, the outcomes of claims, litigation, \\ngovernment investigations, and other proceedings, fulfillment, sortation, delivery, and data center optimization, risks of \\ninventory management, variability in demand, the degree to which the Company enters into, maintains, and develops \\ncommercial agreements, proposed and completed acquisitions and strategic transactions, payments risks, and risks of \\nfulfillment throughput and productivity. Other risks and uncertainties include, among others, risks related to new products, \\nservices, and technologies, system interruptions, government regulation and taxation, and fraud. In addition, global economic \\nand geopolitical conditions and additional or unforeseen circumstances, developments, or events may give rise to or amplify \\nmany of these risks. More information about factors that potentially could affect Amazon.com’s financial results is included in \\nAmazon.com’s filings with the Securities and Exchange Commission (“SEC”), including its most recent Annual Report on \\nForm 10-K and subsequent filings.\\nOur investor relations website is amazon.com/ir and we encourage investors to use it as a way of easily finding information \\nabout us. We promptly make available on this website, free of charge, the reports that we file or furnish with the SEC, corporate \\ngovernance information (including our Code of Business Conduct and Ethics), and select press releases, which may contain \\nmaterial information about us, and you may subscribe to be notified of new information posted to this site.\\nAbout Amazon\\nAmazon is guided by four principles: customer obsession rather than competitor focus, passion for invention, commitment to \\noperational excellence, and long-term thinking. Amazon strives to be Earth’s Most Customer-Centric Company, Earth’s Best \\nEmployer, and Earth’s Safest Place to Work. Customer reviews, 1-Click shopping, personalized recommendations, Prime, \\nFulfillment by Amazon, AWS, Kindle Direct Publishing, Kindle, Career Choice, Fire tablets, Fire TV, Amazon Echo, Alexa, \\nJust Walk Out technology, Amazon Studios, and The Climate Pledge are some of the things pioneered by Amazon. For more \\ninformation, visit amazon.com/about and follow @AmazonNews.\\n',\n",
       " 'AMAZON.COM, INC.\\nConsolidated Statements of Cash Flows\\n(in millions)\\n(unaudited) \\n  \\nThree Months Ended\\nMarch 31,\\nTwelve Months Ended\\nMarch 31,\\n \\n2022\\n2023\\n2022\\n2023\\nCASH, CASH EQUIVALENTS, AND RESTRICTED CASH, BEGINNING OF PERIOD\\n$ \\n36,477 \\n$ \\n54,253 \\n$ \\n34,155 \\n$ \\n36,599 \\nOPERATING ACTIVITIES:\\nNet income (loss)\\n \\n(3,844)  \\n3,172 \\n \\n21,413 \\n \\n4,294 \\nAdjustments to reconcile net income (loss) to net cash from operating activities:\\nDepreciation and amortization of property and equipment and capitalized content costs, operating lease assets, \\nand other\\n \\n9,193 \\n \\n11,123 \\n \\n36,088 \\n \\n43,851 \\nStock-based compensation\\n \\n3,250 \\n \\n4,748 \\n \\n13,701 \\n \\n21,119 \\nOther expense (income), net\\n \\n8,689 \\n \\n534 \\n \\n(4,161)  \\n8,811 \\nDeferred income taxes\\n \\n(2,001)  \\n(472)  \\n(4,014)  \\n(6,619) \\nChanges in operating assets and liabilities:\\nInventories\\n \\n(2,614)  \\n371 \\n \\n(11,797)  \\n393 \\nAccounts receivable, net and other\\n \\n(1,516)  \\n1,521 \\n \\n(17,424)  \\n(18,860) \\nAccounts payable\\n \\n(9,380)  \\n(11,264)  \\n2,488 \\n \\n1,061 \\nAccrued expenses and other\\n \\n(5,903)  \\n(5,763)  \\n280 \\n \\n(1,418) \\nUnearned revenue\\n \\n1,336 \\n \\n818 \\n \\n2,750 \\n \\n1,698 \\nNet cash provided by (used in) operating activities\\n \\n(2,790)  \\n4,788 \\n \\n39,324 \\n \\n54,330 \\nINVESTING ACTIVITIES:\\nPurchases of property and equipment\\n \\n(14,951)  \\n(14,207)  \\n(63,922)  \\n(62,901) \\nProceeds from property and equipment sales and incentives\\n \\n1,209 \\n \\n1,137 \\n \\n5,971 \\n \\n5,252 \\nAcquisitions, net of cash acquired, and other\\n \\n(6,341)  \\n(3,513)  \\n(7,696)  \\n(5,488) \\nSales and maturities of marketable securities\\n \\n22,753 \\n \\n1,115 \\n \\n64,311 \\n \\n9,963 \\nPurchases of marketable securities\\n \\n(1,764)  \\n(338)  \\n(47,246)  \\n(1,139) \\nNet cash provided by (used in) investing activities\\n \\n906 \\n \\n(15,806)  \\n(48,582)  \\n(54,313) \\nFINANCING ACTIVITIES:\\nCommon stock repurchased\\n \\n(2,666)  \\n— \\n \\n(2,666)  \\n(3,334) \\nProceeds from short-term debt, and other\\n \\n13,743 \\n \\n12,780 \\n \\n19,773 \\n \\n40,590 \\nRepayments of short-term debt, and other\\n \\n(6,231)  \\n(3,603)  \\n(11,983)  \\n(34,926) \\nProceeds from long-term debt\\n \\n— \\n \\n— \\n \\n18,892 \\n \\n21,166 \\nRepayments of long-term debt\\n \\n— \\n \\n(1,386)  \\n(1,551)  \\n(2,644) \\nPrincipal repayments of finance leases\\n \\n(2,777)  \\n(1,380)  \\n(10,534)  \\n(6,544) \\nPrincipal repayments of financing obligations\\n \\n(79)  \\n(57)  \\n(174)  \\n(226) \\nNet cash provided by (used in) financing activities\\n \\n1,990 \\n \\n6,354 \\n \\n11,757 \\n \\n14,082 \\nForeign currency effect on cash, cash equivalents, and restricted cash\\n \\n16 \\n \\n145 \\n \\n(55)  \\n(964) \\nNet increase (decrease) in cash, cash equivalents, and restricted cash\\n \\n122 \\n \\n(4,519)  \\n2,444 \\n \\n13,135 \\nCASH, CASH EQUIVALENTS, AND RESTRICTED CASH, END OF PERIOD\\n$ \\n36,599 \\n$ \\n49,734 \\n$ \\n36,599 \\n$ \\n49,734 \\nSUPPLEMENTAL CASH FLOW INFORMATION:\\nCash paid for interest on debt\\n$ \\n279 \\n$ \\n402 \\n$ \\n1,101 \\n$ \\n1,684 \\nCash paid for operating leases\\n \\n2,367 \\n \\n2,467 \\n \\n7,449 \\n \\n8,733 \\nCash paid for interest on finance leases\\n \\n107 \\n \\n81 \\n \\n471 \\n \\n348 \\nCash paid for interest on financing obligations\\n \\n58 \\n \\n59 \\n \\n178 \\n \\n208 \\nCash paid for income taxes, net of refunds\\n \\n453 \\n \\n619 \\n \\n3,340 \\n \\n6,201 \\nAssets acquired under operating leases\\n \\n2,175 \\n \\n3,626 \\n \\n24,008 \\n \\n20,251 \\nProperty and equipment acquired under finance leases, net of remeasurements and modifications\\n \\n166 \\n \\n8 \\n \\n5,160 \\n \\n517 \\nProperty and equipment recognized during the construction period of build-to-suit lease arrangements\\n \\n1,365 \\n \\n131 \\n \\n6,324 \\n \\n1,953 \\nProperty and equipment derecognized after the construction period of build-to-suit lease arrangements, with the \\nassociated leases recognized as operating\\n \\n33 \\n \\n720 \\n \\n263 \\n \\n5,845 \\n',\n",
       " 'AMAZON.COM, INC.\\nConsolidated Statements of Operations\\n(in millions, except per share data)\\n(unaudited)\\n  \\nThree Months Ended\\nMarch 31,\\n2022\\n2023\\nNet product sales\\n$ \\n56,455 $ \\n56,981 \\nNet service sales\\n \\n59,989  \\n70,377 \\nTotal net sales\\n \\n116,444  \\n127,358 \\nOperating expenses:\\nCost of sales\\n \\n66,499  \\n67,791 \\nFulfillment\\n \\n20,271  \\n20,905 \\nTechnology and content\\n \\n14,842  \\n20,450 \\nSales and marketing\\n \\n8,320  \\n10,172 \\nGeneral and administrative\\n \\n2,594  \\n3,043 \\nOther operating expense (income), net\\n \\n249  \\n223 \\nTotal operating expenses\\n \\n112,775  \\n122,584 \\nOperating income\\n \\n3,669  \\n4,774 \\nInterest income\\n \\n108  \\n611 \\nInterest expense\\n \\n(472)  \\n(823) \\nOther income (expense), net\\n \\n(8,570)  \\n(443) \\nTotal non-operating expense\\n \\n(8,934)  \\n(655) \\nIncome (loss) before income taxes\\n \\n(5,265)  \\n4,119 \\nBenefit (provision) for income taxes\\n \\n1,422  \\n(948) \\nEquity-method investment activity, net of tax\\n \\n(1)  \\n1 \\nNet income (loss)\\n$ \\n(3,844) $ \\n3,172 \\nBasic earnings per share\\n$ \\n(0.38) $ \\n0.31 \\nDiluted earnings per share\\n$ \\n(0.38) $ \\n0.31 \\nWeighted-average shares used in computation of earnings per share:\\nBasic\\n \\n10,171  \\n10,250 \\nDiluted\\n \\n10,171  \\n10,347 \\n',\n",
       " 'AMAZON.COM, INC.\\nConsolidated Statements of Comprehensive Income (Loss)\\n(in millions)\\n(unaudited)\\n  \\nThree Months Ended\\nMarch 31,\\n \\n2022\\n2023\\nNet income (loss)\\n$ \\n(3,844) $ \\n3,172 \\nOther comprehensive income (loss):\\nForeign currency translation adjustments, net of tax of $(16) and $(10)\\n \\n(333)  \\n386 \\nNet change in unrealized gains (losses) on available-for-sale debt securities:\\nUnrealized gains (losses), net of tax of $1 and $(29)\\n \\n(662)  \\n95 \\nReclassification adjustment for losses (gains) included in “Other income (expense), \\nnet,” net of tax of $0 and $(10)\\n \\n6  \\n33 \\nNet unrealized gains (losses) on available-for-sale debt securities\\n \\n(656)  \\n128 \\nTotal other comprehensive income (loss)\\n \\n(989)  \\n514 \\nComprehensive income (loss)\\n$ \\n(4,833) $ \\n3,686 \\n',\n",
       " 'AMAZON.COM, INC.\\nSegment Information\\n(in millions)\\n(unaudited) \\n  \\nThree Months Ended\\nMarch 31,\\n2022\\n2023\\nNorth America\\nNet sales\\n$ \\n69,244 \\n$ \\n76,881 \\nOperating expenses\\n \\n70,812 \\n \\n75,983 \\nOperating income (loss)\\n$ \\n(1,568) \\n$ \\n898 \\nInternational\\nNet sales\\n$ \\n28,759 \\n$ \\n29,123 \\nOperating expenses\\n \\n30,040 \\n \\n30,370 \\nOperating loss\\n$ \\n(1,281) \\n$ \\n(1,247) \\nAWS\\nNet sales\\n$ \\n18,441 \\n$ \\n21,354 \\nOperating expenses\\n \\n11,923 \\n \\n16,231 \\nOperating income\\n$ \\n6,518 \\n$ \\n5,123 \\nConsolidated\\nNet sales\\n$ 116,444 \\n$ 127,358 \\nOperating expenses\\n \\n112,775 \\n \\n122,584 \\nOperating income\\n \\n3,669 \\n \\n4,774 \\nTotal non-operating expense\\n \\n(8,934) \\n \\n(655) \\nBenefit (provision) for income taxes\\n \\n1,422 \\n \\n(948) \\nEquity-method investment activity, net of tax\\n \\n(1) \\n \\n1 \\nNet income (loss)\\n$ \\n(3,844) \\n$ \\n3,172 \\nSegment Highlights:\\nY/Y net sales growth (decline):\\nNorth America\\n 8 %\\n 11 %\\nInternational\\n (6) \\n 1 \\nAWS\\n 37 \\n 16 \\nConsolidated\\n 7 \\n 9 \\nNet sales mix:\\nNorth America\\n 59 %\\n 60 %\\nInternational\\n 25 \\n 23 \\nAWS\\n 16 \\n 17 \\nConsolidated\\n 100 %\\n 100 %\\n',\n",
       " 'AMAZON.COM, INC.\\nConsolidated Balance Sheets\\n(in millions, except per share data)\\n (unaudited)\\nDecember 31, 2022\\nMarch 31, 2023\\nASSETS\\nCurrent assets:\\nCash and cash equivalents\\n$ \\n53,888 $ \\n49,343 \\nMarketable securities\\n \\n16,138  \\n15,062 \\nInventories\\n \\n34,405  \\n34,170 \\nAccounts receivable, net and other\\n \\n42,360  \\n37,646 \\nTotal current assets\\n \\n146,791  \\n136,221 \\nProperty and equipment, net\\n \\n186,715  \\n190,754 \\nOperating leases\\n \\n66,123  \\n68,262 \\nGoodwill\\n \\n20,288  \\n22,749 \\nOther assets\\n \\n42,758  \\n46,392 \\nTotal assets\\n$ \\n462,675 $ \\n464,378 \\nLIABILITIES AND STOCKHOLDERS’ EQUITY\\nCurrent liabilities:\\nAccounts payable\\n$ \\n79,600 $ \\n66,907 \\nAccrued expenses and other\\n \\n62,566  \\n66,382 \\nUnearned revenue\\n \\n13,227  \\n14,281 \\nTotal current liabilities\\n \\n155,393  \\n147,570 \\nLong-term lease liabilities\\n \\n72,968  \\n74,267 \\nLong-term debt\\n \\n67,150  \\n67,084 \\nOther long-term liabilities\\n \\n21,121  \\n20,931 \\nCommitments and contingencies\\nStockholders’ equity:\\nPreferred stock ($0.01 par value; 500 shares authorized; no shares issued or \\noutstanding)\\n \\n—  \\n— \\nCommon stock ($0.01 par value; 100,000 shares authorized; 10,757 and 10,773 \\nshares issued; 10,242 and 10,258 shares outstanding)\\n \\n108  \\n108 \\nTreasury stock, at cost\\n \\n(7,837)  \\n(7,837) \\nAdditional paid-in capital\\n \\n75,066  \\n79,863 \\nAccumulated other comprehensive income (loss)\\n \\n(4,487)  \\n(3,973) \\nRetained earnings\\n \\n83,193  \\n86,365 \\nTotal stockholders’ equity\\n \\n146,043  \\n154,526 \\nTotal liabilities and stockholders’ equity\\n$ \\n462,675 $ \\n464,378 \\n',\n",
       " 'AMAZON.COM, INC.\\nSupplemental Financial Information and Business Metrics\\n(in millions, except per share data)\\n(unaudited)\\nQ4 2021\\nQ1 2022\\nQ2 2022\\nQ3 2022\\nQ4 2022\\nQ1 2023\\nY/Y %\\nChange\\nCash Flows and Shares\\nOperating cash flow -- trailing twelve months (TTM)\\n$ \\n46,327 \\n$ \\n39,324 \\n$ \\n35,574 \\n$ \\n39,665 \\n$ \\n46,752 \\n$ \\n54,330 \\n 38 %\\nOperating cash flow -- TTM Y/Y growth (decline)\\n (30) %\\n (41) %\\n (40) %\\n (27) %\\n 1 %\\n 38 %\\nN/A\\nPurchases of property and equipment, net of proceeds from sales and \\nincentives -- TTM\\n$ \\n55,396 \\n$ \\n57,951 \\n$ \\n59,061 \\n$ \\n59,351 \\n$ \\n58,321 \\n$ \\n57,649 \\n (1) %\\nPrincipal repayments of finance leases -- TTM\\n$ \\n11,163 \\n$ \\n10,534 \\n$ \\n9,789 \\n$ \\n8,561 \\n$ \\n7,941 \\n$ \\n6,544 \\n (38) %\\nPrincipal repayments of financing obligations -- TTM\\n$ \\n162 \\n$ \\n174 \\n$ \\n205 \\n$ \\n233 \\n$ \\n248 \\n$ \\n226 \\n 30 %\\nEquipment acquired under finance leases -- TTM (1)\\n$ \\n4,422 \\n$ \\n2,764 \\n$ \\n1,621 \\n$ \\n868 \\n$ \\n299 \\n$ \\n285 \\n (90) %\\nPrincipal repayments of all other finance leases -- TTM (2)\\n$ \\n687 \\n$ \\n714 \\n$ \\n751 \\n$ \\n706 \\n$ \\n670 \\n$ \\n625 \\n (13) %\\nFree cash flow -- TTM (3)\\n$ \\n(9,069) \\n$ \\n(18,627) \\n$ \\n(23,487) \\n$ \\n(19,686) \\n$ \\n(11,569) \\n$ \\n(3,319) \\n (82) %\\nFree cash flow less principal repayments of finance leases and \\nfinancing obligations -- TTM (4)\\n$ \\n(20,394) \\n$ \\n(29,335) \\n$ \\n(33,481) \\n$ \\n(28,480) \\n$ \\n(19,758) \\n$ \\n(10,089) \\n (66) %\\nFree cash flow less equipment finance leases and principal repayments \\nof all other finance leases and financing obligations -- TTM (5)\\n$ \\n(14,340) \\n$ \\n(22,279) \\n$ \\n(26,064) \\n$ \\n(21,493) \\n$ \\n(12,786) \\n$ \\n(4,455) \\n (80) %\\nCommon shares and stock-based awards outstanding\\n \\n10,455 \\n \\n10,454 \\n \\n10,551 \\n \\n10,597 \\n \\n10,627 \\n \\n10,625 \\n 2 %\\nCommon shares outstanding\\n \\n10,175 \\n \\n10,171 \\n \\n10,183 \\n \\n10,198 \\n \\n10,242 \\n \\n10,258 \\n 1 %\\nStock-based awards outstanding\\n \\n280 \\n \\n283 \\n \\n368 \\n \\n399 \\n \\n384 \\n \\n367 \\n 30 %\\nStock-based awards outstanding -- % of common shares outstanding\\n 2.8 %\\n 2.8 %\\n 3.6 %\\n 3.9 %\\n 3.8 %\\n 3.6 %\\nN/A\\nResults of Operations\\nWorldwide (WW) net sales\\n$ 137,412 \\n$ 116,444 \\n$ 121,234 \\n$ 127,101 \\n$ 149,204 \\n$ 127,358 \\n 9 %\\nWW net sales -- Y/Y growth, excluding F/X\\n 10 %\\n 9 %\\n 10 %\\n 19 %\\n 12 %\\n 11 %\\nN/A\\nWW net sales -- TTM\\n$ 469,822 \\n$ 477,748 \\n$ 485,902 \\n$ 502,191 \\n$ 513,983 \\n$ 524,897 \\n 10 %\\nWW net sales -- TTM Y/Y growth, excluding F/X\\n 21 %\\n 14 %\\n 11 %\\n 12 %\\n 13 %\\n 13 %\\nN/A\\nOperating income\\n$ \\n3,460 \\n$ \\n3,669 \\n$ \\n3,317 \\n$ \\n2,525 \\n$ \\n2,737 \\n$ \\n4,774 \\n 30 %\\nF/X impact -- favorable\\n$ \\n57 \\n$ \\n126 \\n$ \\n165 \\n$ \\n357 \\n$ \\n213 \\n$ \\n139 \\nN/A\\nOperating income -- Y/Y growth (decline), excluding F/X\\n (50) %\\n (60) %\\n (59) %\\n (55) %\\n (27) %\\n 26 %\\nN/A\\nOperating margin -- % of WW net sales\\n 2.5 %\\n 3.2 %\\n 2.7 %\\n 2.0 %\\n 1.8 %\\n 3.7 %\\nN/A\\nOperating income -- TTM\\n$ \\n24,879 \\n$ \\n19,683 \\n$ \\n15,298 \\n$ \\n12,971 \\n$ \\n12,248 \\n$ \\n13,353 \\n (32) %\\nOperating income -- TTM Y/Y growth (decline), excluding F/X\\n 8 %\\n (30) %\\n (49) %\\n (57) %\\n (54) %\\n (37) %\\nN/A\\nOperating margin -- TTM % of WW net sales\\n 5.3 %\\n 4.1 %\\n 3.1 %\\n 2.6 %\\n 2.4 %\\n 2.5 %\\nN/A\\nNet income (loss)\\n$ \\n14,323 \\n$ \\n(3,844) \\n$ \\n(2,028) \\n$ \\n2,872 \\n$ \\n278 \\n$ \\n3,172 \\nN/A\\nNet income (loss) per diluted share\\n$ \\n1.39 \\n$ \\n(0.38) \\n$ \\n(0.20) \\n$ \\n0.28 \\n$ \\n0.03 \\n$ \\n0.31 \\nN/A\\nNet income (loss) -- TTM\\n$ \\n33,364 \\n$ \\n21,413 \\n$ \\n11,607 \\n$ \\n11,323 \\n$ \\n(2,722) \\n$ \\n4,294 \\n (80) %\\nNet income (loss) per diluted share -- TTM\\n$ \\n3.24 \\n$ \\n2.08 \\n$ \\n1.13 \\n$ \\n1.10 \\n$ \\n(0.27) \\n$ \\n0.42 \\n (80) %\\n______________________________\\n(1)\\nFor the twelve months ended March 31, 2022 and 2023, this amount relates to equipment included in “Property and equipment acquired under finance leases, net of \\nremeasurements and modifications” of $5,160 million and $517 million.\\n(2)\\nFor the twelve months ended March 31, 2022 and 2023, this amount relates to property included in “Principal repayments of finance leases” of $10,534 million and $6,544 \\nmillion.\\n(3)\\nFree cash flow is cash flow from operations reduced by “Purchases of property and equipment, net of proceeds from sales and incentives.”\\n(4)\\nFree cash flow less principal repayments of finance leases and financing obligations is free cash flow reduced by “Principal repayments of finance leases” and “Principal \\nrepayments of financing obligations.”\\n(5)\\nFree cash flow less equipment finance leases and principal repayments of all other finance leases and financing obligations is free cash flow reduced by equipment acquired \\nunder finance leases, which is included in “Property and equipment acquired under finance leases, net of remeasurements and modifications,” principal repayments of all \\nother finance lease liabilities, which is included in “Principal repayments of finance leases,” and “Principal repayments of financing obligations.” \\n',\n",
       " 'AMAZON.COM, INC.\\nSupplemental Financial Information and Business Metrics\\n(in millions)\\n(unaudited)\\nQ4 2021\\nQ1 2022\\nQ2 2022\\nQ3 2022\\nQ4 2022\\nQ1 2023\\nY/Y %\\nChange\\nSegments\\nNorth America Segment:\\n  Net sales\\n$ 82,360 \\n$ 69,244 \\n$ 74,430 \\n$ 78,843 \\n$ 93,363 \\n$ 76,881 \\n 11 %\\n  Net sales -- Y/Y growth, excluding F/X\\n 9 %\\n 8 %\\n 10 %\\n 20 %\\n 14 %\\n 11 %\\nN/A\\n  Net sales -- TTM\\n$ 279,833 \\n$ 284,711 \\n$ 291,591 \\n$ 304,877 \\n$ 315,880 \\n$ 323,517 \\n 14 %\\n  Operating income (loss)\\n$ \\n(206) \\n$ (1,568) \\n$ \\n(627) \\n$ \\n(412) \\n$ \\n(240) \\n$ \\n898 \\nN/A\\n  F/X impact -- favorable\\n$ \\n32 \\n$ \\n42 \\n$ \\n61 \\n$ \\n95 \\n$ \\n76 \\n$ \\n41 \\nN/A\\n  Operating income (loss) -- Y/Y growth (decline), excluding F/X\\n (108) %\\n (147) %\\n (122) %\\n (158) %\\n 53 %\\nN/A\\nN/A\\n  Operating margin -- % of North America net sales\\n (0.2) %\\n (2.3) %\\n (0.8) %\\n (0.5) %\\n (0.3) %\\n 1.2 %\\nN/A\\n  Operating income (loss) -- TTM\\n$ 7,271 \\n$ 2,253 \\n$ (1,521) \\n$ (2,813) \\n$ (2,847) \\n$ \\n(381) \\n (117) %\\n  Operating margin -- TTM % of North America net sales\\n 2.6 %\\n 0.8 %\\n (0.5) %\\n (0.9) %\\n (0.9) %\\n (0.1) %\\nN/A\\nInternational Segment:\\n  Net sales\\n$ 37,272 \\n$ 28,759 \\n$ 27,065 \\n$ 27,720 \\n$ 34,463 \\n$ 29,123 \\n 1 %\\n  Net sales -- Y/Y growth (decline), excluding F/X\\n 3 %\\n 0 %\\n (1) %\\n 12 %\\n 5 %\\n 9 %\\nN/A\\n  Net sales -- TTM\\n$ 127,787 \\n$ 125,897 \\n$ 122,241 \\n$ 120,816 \\n$ 118,007 \\n$ 118,371 \\n (6) %\\n  Operating loss\\n$ (1,627) \\n$ (1,281) \\n$ (1,771) \\n$ (2,466) \\n$ (2,228) \\n$ (1,247) \\n (3) %\\n  F/X impact -- unfavorable\\n$ \\n(58) \\n$ \\n(79) \\n$ \\n(231) \\n$ \\n(216) \\n$ \\n(331) \\n$ \\n(174) \\nN/A\\n  Operating loss -- Y/Y growth (decline), excluding F/X\\n (533) %\\n (196) %\\n (526) %\\n 147 %\\n 17 %\\n (16) %\\nN/A\\n  Operating margin -- % of International net sales\\n (4.4) %\\n (4.5) %\\n (6.5) %\\n (8.9) %\\n (6.5) %\\n (4.3) %\\nN/A\\n  Operating loss -- TTM\\n$ \\n(924) \\n$ (3,457) \\n$ (5,590) \\n$ (7,145) \\n$ (7,746) \\n$ (7,712) \\n 123 %\\n  Operating margin -- TTM % of International net sales\\n (0.7) %\\n (2.7) %\\n (4.6) %\\n (5.9) %\\n (6.6) %\\n (6.5) %\\nN/A\\nAWS Segment:\\n  Net sales\\n$ 17,780 \\n$ 18,441 \\n$ 19,739 \\n$ 20,538 \\n$ 21,378 \\n$ 21,354 \\n 16 %\\n  Net sales -- Y/Y growth, excluding F/X\\n 40 %\\n 37 %\\n 33 %\\n 28 %\\n 20 %\\n 16 %\\nN/A\\n  Net sales -- TTM\\n$ 62,202 \\n$ 67,140 \\n$ 72,070 \\n$ 76,498 \\n$ 80,096 \\n$ 83,009 \\n 24 %\\n  Operating income\\n$ 5,293 \\n$ 6,518 \\n$ 5,715 \\n$ 5,403 \\n$ 5,205 \\n$ 5,123 \\n (21) %\\n  F/X impact -- favorable\\n$ \\n83 \\n$ \\n163 \\n$ \\n335 \\n$ \\n478 \\n$ \\n468 \\n$ \\n272 \\nN/A\\n  Operating income -- Y/Y growth (decline), excluding F/X\\n 46 %\\n 53 %\\n 28 %\\n 1 %\\n (10) %\\n (26) %\\nN/A\\n  Operating margin -- % of AWS net sales\\n 29.8 %\\n 35.3 %\\n 29.0 %\\n 26.3 %\\n 24.3 %\\n 24.0 %\\nN/A\\n  Operating income -- TTM\\n$ 18,532 \\n$ 20,887 \\n$ 22,409 \\n$ 22,929 \\n$ 22,841 \\n$ 21,446 \\n 3 %\\n  Operating margin -- TTM % of AWS net sales\\n 29.8 %\\n 31.1 %\\n 31.1 %\\n 30.0 %\\n 28.5 %\\n 25.8 %\\nN/A\\n',\n",
       " 'AMAZON.COM, INC.\\nSupplemental Financial Information and Business Metrics\\n(in millions, except employee data)\\n(unaudited)\\nQ4 2021\\nQ1 2022\\nQ2 2022\\nQ3 2022\\nQ4 2022\\nQ1 2023\\nY/Y %\\nChange\\nNet Sales\\nOnline stores (1)\\n$ 66,075 \\n$ 51,129 \\n$ 50,855 \\n$ 53,489 \\n$ 64,531 \\n$ 51,096 \\n 0 %\\nOnline stores -- Y/Y growth (decline), excluding F/X\\n 1 %\\n (1) %\\n 0 %\\n 13 %\\n 2 %\\n 3 %\\nN/A\\nPhysical stores (2)\\n$ 4,688 \\n$ 4,591 \\n$ 4,721 \\n$ 4,694 \\n$ 4,957 \\n$ 4,895 \\n 7 %\\nPhysical stores -- Y/Y growth, excluding F/X\\n 16 %\\n 16 %\\n 13 %\\n 10 %\\n 6 %\\n 7 %\\nN/A\\nThird-party seller services (3)\\n$ 30,320 \\n$ 25,335 \\n$ 27,376 \\n$ 28,666 \\n$ 36,339 \\n$ 29,820 \\n 18 %\\nThird-party seller services -- Y/Y growth, excluding F/X\\n 12 %\\n 9 %\\n 13 %\\n 23 %\\n 24 %\\n 20 %\\nN/A\\nSubscription services (4)\\n$ 8,123 \\n$ 8,410 \\n$ 8,716 \\n$ 8,903 \\n$ 9,189 \\n$ 9,657 \\n 15 %\\nSubscription services -- Y/Y growth, excluding F/X\\n 16 %\\n 13 %\\n 14 %\\n 14 %\\n 17 %\\n 17 %\\nN/A\\nAdvertising services (5)\\n$ 9,716 \\n$ 7,877 \\n$ 8,757 \\n$ 9,548 \\n$ 11,557 \\n$ 9,509 \\n 21 %\\nAdvertising services -- Y/Y growth, excluding F/X\\n 33 %\\n 25 %\\n 21 %\\n 30 %\\n 23 %\\n 23 %\\nN/A\\nAWS\\n$ 17,780 \\n$ 18,441 \\n$ 19,739 \\n$ 20,538 \\n$ 21,378 \\n$ 21,354 \\n 16 %\\nAWS -- Y/Y growth, excluding F/X\\n 40 %\\n 37 %\\n 33 %\\n 28 %\\n 20 %\\n 16 %\\nN/A\\nOther (6)\\n$ \\n710 \\n$ \\n661 \\n$ 1,070 \\n$ 1,263 \\n$ 1,253 \\n$ 1,027 \\n 55 %\\nOther -- Y/Y growth, excluding F/X\\n 19 %\\n 28 %\\n 135 %\\n 168 %\\n 80 %\\n 57 %\\nN/A\\nStock-based Compensation Expense\\nCost of sales\\n$ \\n179 \\n$ \\n146 \\n$ \\n213 \\n$ \\n190 \\n$ \\n208 \\n$ \\n165 \\n 13 %\\nFulfillment\\n$ \\n565 \\n$ \\n498 \\n$ \\n763 \\n$ \\n727 \\n$ \\n757 \\n$ \\n603 \\n 21 %\\nTechnology and content\\n$ 1,903 \\n$ 1,645 \\n$ 2,814 \\n$ 3,036 \\n$ 3,126 \\n$ 2,574 \\n 56 %\\nSales and marketing\\n$ \\n726 \\n$ \\n665 \\n$ \\n990 \\n$ 1,128 \\n$ 1,092 \\n$ \\n993 \\n 49 %\\nGeneral and administrative\\n$ \\n307 \\n$ \\n296 \\n$ \\n429 \\n$ \\n475 \\n$ \\n423 \\n$ \\n413 \\n 40 %\\nTotal stock-based compensation expense\\n$ 3,680 \\n$ 3,250 \\n$ 5,209 \\n$ 5,556 \\n$ 5,606 \\n$ 4,748 \\n 46 %\\nOther\\nWW shipping costs\\n$ 23,656 \\n$ 19,560 \\n$ 19,304 \\n$ 19,942 \\n$ 24,714 \\n$ 19,937 \\n 2 %\\nWW shipping costs -- Y/Y growth\\n 10 %\\n 14 %\\n 9 %\\n 10 %\\n 4 %\\n 2 %\\nN/A\\nWW paid units -- Y/Y growth (7)\\n 3 %\\n 0 %\\n 1 %\\n 11 %\\n 8 %\\n 8 %\\nN/A\\nWW seller unit mix -- % of WW paid units (7)\\n 56 %\\n 55 %\\n 57 %\\n 58 %\\n 59 %\\n 59 %\\nN/A\\nEmployees (full-time and part-time; excludes contractors & temporary personnel)\\n 1,608,000 \\n 1,622,000 \\n 1,523,000 \\n 1,544,000 \\n 1,541,000 \\n 1,465,000 \\n (10) %\\nEmployees (full-time and part-time; excludes contractors & temporary personnel) -- Y/Y \\ngrowth (decline)\\n 24 %\\n 28 %\\n 14 %\\n 5 %\\n (4) %\\n (10) %\\nN/A\\n________________________\\n(1)\\nIncludes product sales and digital media content where we record revenue gross. We leverage our retail infrastructure to offer a wide selection of consumable and durable \\ngoods that includes media products available in both a physical and digital format, such as books, videos, games, music, and software. These product sales include digital \\nproducts sold on a transactional basis. Digital product subscriptions that provide unlimited viewing or usage rights are included in “Subscription services.” \\n(2)\\nIncludes product sales where our customers physically select items in a store. Sales to customers who order goods online for delivery or pickup at our physical stores are \\nincluded in “Online stores.” \\n(3)\\nIncludes commissions and any related fulfillment and shipping fees, and other third-party seller services. \\n(4)\\nIncludes annual and monthly fees associated with Amazon Prime memberships, as well as digital video, audiobook, digital music, e-book, and other non-AWS subscription \\nservices.\\n(5)\\nIncludes sales of advertising services to sellers, vendors, publishers, authors, and others, through programs such as sponsored ads, display, and video advertising. \\n(6)\\nIncludes sales related to various other offerings, such as certain licensing and distribution of video content, shipping services, and health care services, and our co-branded \\ncredit card agreements.\\n(7)\\nExcludes the impact of Whole Foods Market.\\n',\n",
       " 'Amazon.com, Inc.\\nCertain Definitions\\nCustomer Accounts\\n•\\nReferences to customers mean customer accounts established when a customer places an order through one of our \\nstores. Customer accounts exclude certain customers, including customers associated with certain of our acquisitions, \\nAmazon Payments customers, AWS customers, and the customers of select companies with whom we have a \\ntechnology alliance or marketing and promotional relationship. Customers are considered active when they have \\nplaced an order during the preceding twelve-month period.\\nSeller Accounts\\n•\\nReferences to sellers means seller accounts, which are established when a seller receives an order from a customer \\naccount. Sellers are considered active when they have received an order from a customer during the preceding twelve-\\nmonth period.\\nAWS Customers\\n•\\nReferences to AWS customers mean unique AWS customer accounts, which are unique customer account IDs that are \\neligible to use AWS services. This includes AWS accounts in the AWS free tier. Multiple users accessing AWS \\nservices via one account ID are counted as a single account. Customers are considered active when they have had \\nAWS usage activity during the preceding one-month period.\\nUnits\\n•\\nReferences to units mean physical and digital units sold (net of returns and cancellations) by us and sellers in our \\nstores as well as Amazon-owned items sold in other stores. Units sold are paid units and do not include units \\nassociated with AWS, certain acquisitions, certain subscriptions, rental businesses, or advertising businesses, or \\nAmazon gift cards.\\nContacts:\\nAmazon Investor Relations\\n \\nAmazon Public Relations\\nDave Fildes, amazon-ir@amazon.com\\n \\nDan Perlet, amazon-pr@amazon.com\\namazon.com/ir\\n \\namazon.com/pr\\n']"
      ]
     },
     "execution_count": 44,
     "metadata": {},
     "output_type": "execute_result"
    }
   ],
   "source": [
    "filestream = io.BytesIO(request.content)\n",
    "file = fitz.open(stream=filestream, filetype='pdf')\n",
    "page_content = [page.get_text() for page in file]\n",
    "page_content"
   ]
  },
  {
   "cell_type": "code",
   "execution_count": 45,
   "metadata": {},
   "outputs": [
    {
     "data": {
      "text/plain": [
       "'AMAZON.COM ANNOUNCES FIRST QUARTER RESULTS\\nSEATTLE—(BUSINESS WIRE) April 27, 2023—Amazon.com, Inc. (NASDAQ: AMZN) today announced financial results \\nfor its first quarter ended March 31, 2023. \\n•\\nNet sales increased 9% to $127.4 billion in the first quarter, compared with $116.4 billion in first quarter 2022.\\nExcluding the $2.4 billion unfavorable impact from year-over-year changes in foreign exchange rates throughout the\\nquarter, net sales increased 11% compared with first quarter 2022.\\n•\\nNorth America segment sales increased 11% year-over-year to $76.9 billion.\\n•\\nInternational segment sales increased 1% year-over-year to $29.1 billion, or increased 9% excluding changes\\nin foreign exchange rates.\\n•\\nAWS segment sales increased 16% year-over-year to $21.4 billion.\\n•\\nOperating income increased to $4.8 billion in the first quarter, compared with $3.7 billion in first quarter 2022. First\\nquarter 2023 operating income includes approximately $0.5 billion of charges related to estimated severance costs.\\n•\\nNorth America segment operating income was $0.9 billion, compared with operating loss of $1.6 billion in\\nfirst quarter 2022.\\n•\\nInternational segment operating loss was $1.2 billion, compared with operating loss of $1.3 billion in first\\nquarter 2022.\\n•\\nAWS segment operating income was $5.1 billion, compared with operating income of $6.5 billion in first\\nquarter 2022.\\n•\\nNet income was $3.2 billion in the first quarter, or $0.31 per diluted share, compared with net loss of $3.8 billion, or\\n$0.38 per diluted share, in first quarter 2022. All share and per share information for comparable prior year periods\\nthroughout this release have been retroactively adjusted to reflect the 20-for-1 stock split effected on May 27, 2022.\\n•\\nFirst quarter 2023 net income includes a pre-tax valuation loss of $0.5 billion included in non-operating\\nexpense from the common stock investment in Rivian Automotive, Inc., compared to a pre-tax valuation loss\\nof $7.6 billion from the investment in first quarter 2022.\\n•\\nOperating cash flow increased 38% to $54.3 billion for the trailing twelve months, compared with $39.3 billion for\\nthe trailing twelve months ended March 31, 2022.\\n•\\nFree cash flow improved to an outflow of $3.3 billion for the trailing twelve months, compared with an outflow of\\n$18.6 billion for the trailing twelve months ended March 31, 2022.\\n•\\nFree cash flow less principal repayments of finance leases and financing obligations improved to an outflow of\\n$10.1 billion for the trailing twelve months, compared with an outflow of $29.3 billion for the trailing twelve months\\nended March 31, 2022.\\n•\\nFree cash flow less equipment finance leases and principal repayments of all other finance leases and financing\\nobligations improved to an outflow of $4.5 billion for the trailing twelve months, compared with an outflow of $22.3\\nbillion for the trailing twelve months ended March 31, 2022.\\n“There’s a lot to like about how our teams are delivering for customers, particularly amidst an uncertain economy,” said Andy \\nJassy, Amazon CEO. “Our Stores business is continuing to improve the cost to serve in our fulfillment network while \\nincreasing the speed with which we get products into the hands of customers (we expect to have our fastest Prime delivery \\nspeeds ever in 2023). Our Advertising business continues to deliver robust growth, largely due to our ongoing machine learning \\ninvestments that help customers see relevant information when they engage with us, which in turn delivers unusually strong \\nresults for brands. And, while our AWS business navigates companies spending more cautiously in this macro environment, we \\ncontinue to prioritize building long-term customer relationships both by helping customers save money and enabling them to \\nmore easily leverage technologies like Large Language Models and Generative AI with our uniquely cost-effective machine \\nlearning chips (“Trainium” and “Inferentia”), managed Large Language Models (“Bedrock”), and AI code companion \\nCodeWhisperer. We like the fundamentals we’re seeing in AWS, and believe there’s much growth ahead.”\\nHighlights\\nObsessing over the customer experience\\nAmazon obsesses over how to make customers’ lives better and easier every day. This is true for consumers, sellers, brands, \\ndevelopers, enterprises, and creators. For example, in the past quarter, Amazon:\\n•\\nContinued to delight customers with convenient delivery options and broad selection. Nearly 26 million customers \\nordered items with Same-Day Delivery in the quarter, an increase of 50% compared to last year. \\n•\\nIncreased selection in its U.S. online store with the addition of new marquee beauty, home, and fashion brands, \\nincluding Lancôme, Shiseido, World of Martha by Martha Stewart, Rent the Runway, KNOW Beauty by Vanessa \\nHudgens, as well as new The Drop collections from Harlem Fashion Row and Coco & Breezy. The Drop offers \\ncustomers access to limited-edition, made-on-demand clothing collections by fashion influencers.  \\n•\\nLaunched a new Fulfillment by Amazon (FBA) capacity management system to help sellers who use Amazon’s \\nstorage, packing, and shipping fulfillment service to manage their inventory and capacity more efficiently as they scale \\ntheir businesses. The management system provides sellers with more insight, predictability, visibility, and control to \\nbetter plan and manage their inventory and supply chains, as well as increase capacity limits when needed.\\n•\\nReleased the third annual Brand Protection Report highlighting the company’s efforts to protect customers, brands, and \\nselling partners from counterfeit products in 2022. The efforts resulted in more seized products, criminal referrals, and \\nindustry partnerships than ever before. The report demonstrates how Amazon is stopping bad actors and making an \\nimpact beyond Amazon’s store, including by identifying, seizing, and appropriately disposing of more than 6 million \\ncounterfeit products, preventing them from reaching customers and being resold elsewhere in the global supply chain.\\n•\\nLaunched Reviews from Amazon, a new capability that enables Buy with Prime merchants to display customer ratings \\nand reviews from Amazon.com within their own online stores at no additional cost. Nearly 20% of Buy with Prime \\nmerchants are already using this feature, and the early feedback is that it’s helping merchants drive higher shopper \\nconversion.\\n•\\nAcquired One Medical, a primary care organization offering both 24/7 virtual care services and in-office visits across \\nthe U.S. for preventive and everyday health, chronic care management, pediatric care, and mental health services. For \\na limited time, One Medical is offering annual memberships to new customers at the discounted price of $144 for the \\nfirst year (regularly $199/year), the equivalent of $12 per month. \\n•\\nAnnounced that Prime Video will exclusively present the first-ever “Black Friday” National Football League game on \\nNovember 24. The game will be available for all fans to stream for free in the U.S. without a Prime membership. \\n•\\nSet box-office records with MGM’s premiere of Creed III, directed by and starring Michael B. Jordan. The movie \\ngrossed $100.4 million globally in its opening weekend—the best U.S. debut for any sports film in history. It also had \\nthe biggest global box office gross of any of the Creed titles, at over $250 million to date, and is still opening in \\nterritories around the world. In addition, filmmaker Sarah Polley won the Academy Award for Best Adapted \\nScreenplay for MGM’s Women Talking.\\n•\\nPremiered Amazon Original limited series Daisy Jones & The Six, based on the New York Times best-selling novel, \\nwhich debuted at No. 1 on Prime Video globally. Within 24 hours of release, the show’s soundtrack was the No. 1 \\nselling vinyl on Amazon, and the novel the series is based on also reached No. 1 on the Amazon Best Sellers List for \\nall books. The company debuted additional Amazon Original films and series, including action comedy Shotgun \\nWedding, starring Jennifer Lopez and Josh Duhamel; romantic comedy Somebody I Used to Know, directed by Dave \\nFranco; comedic thriller The Consultant, starring Christoph Waltz; and Swarm, from co-creator and executive \\nproducer Donald Glover.\\n•\\nWon four Ambies, the premier podcasting award, for Amazon Music and Wondery podcasts I Hear Fear (Best \\nScriptwriting, Fiction), Business Wars (Best Business Podcast), The Lead (Best Sports Podcast), and Scamfluencers \\n(Best Entertainment Podcast).\\n•\\nAnnounced new commitments and migrations from AWS customers.\\n•\\nSouthwest Airlines selected AWS as its preferred cloud provider for a large-scale modernization as part of the \\nairline’s long-term plan to optimize airline operations, streamline infrastructure costs, and provide a more \\nseamless and enjoyable travel experience to customers. \\n•\\nZurich Insurance Group is moving its enterprise information technology infrastructure, including 1,000 \\napplications over the next three years, to AWS to deliver new digital customer experiences and drive \\nautomation at scale. \\n•\\nBBVA is employing AWS’s extensive portfolio of cloud services to launch new financial solutions that will \\nhelp BBVA Corporate and Investment Banking expand its business to accelerate innovation, reduce costs, \\nscale quickly, and increase flexibility. \\n•\\nBroadridge’s LTX electronic trading platform completed a successful migration of its corporate bond e-\\ntrading platform to AWS. \\n•\\nS&P Global and AWS announced a multiyear strategic collaboration to extend the delivery of advanced, \\nsecure, cloud-based services to more than 100,000 of S&P Global’s government and enterprise customers in \\n43 countries around the world. \\n•\\nSnowflake and AWS announced a new commitment to build joint industry-specific solutions, increase sales \\ncollaboration, and deepen product integration, including further streamlining running Snowflake on Graviton \\nprocessors. Approximately 84% of Snowflake’s customers run their deployments on AWS to rapidly \\ninnovate. \\n•\\nStripe announced a new global agreement to run virtually all their infrastructure on AWS while reliably \\nserving millions of internet companies. \\n•\\nWestpac, one of Australia’s leading banks, expanded its collaboration with AWS through a new five-year \\nagreement that will tap into advanced AWS capabilities, like machine learning, compute, and data analytics, \\nto further accelerate the bank’s digital transformation, drive cost efficiencies, and personalize its banking \\napplications. \\n•\\nT-Mobile is integrating its 5G Advanced Network Solutions portfolio with AWS to help customers more \\neasily discover, customize, and deploy 5G edge computing.\\n•\\nMarvell selected AWS to rapidly scale its electronic design automation in the cloud to address increasingly \\ncomplex chip design processes and deliver continuous innovation for expanding needs across the automotive, \\ncarrier, data center, and enterprise infrastructure markets. \\n•\\nTELUS, one of Canada’s leading telecommunications providers, is collaborating with AWS to develop a new \\nsmart-living solution that will reduce the need for multiple smart-home apps, simplify installation, and enable \\nnew multidevice automation. \\n•\\nIberdrola, one of the world’s largest clean energy companies, selected AWS as its preferred cloud provider to \\nsupport the energy company as it embarks on further digitalization to enable smarter grids, customer \\nengagement, and connected clean power. \\n•\\nAnnounced plans to open a new AWS Region in Malaysia and launched a second AWS Region in Australia to \\ncontinue expanding AWS’s infrastructure footprint, delivering the most secure, extensive, and reliable cloud \\ntechnology to millions of customers around the world. \\nInventing on behalf of customers\\nAmazon is driven by a passion for invention across all of its business areas. The company builds new products and services that \\ncustomers ask for, and also invents new ones that customers didn’t know they wanted but make their lives or businesses better \\nin some meaningful way. For example, this past quarter, Amazon: \\n•\\nAnnounced new AWS tools that make building with generative artificial intelligence (AI) easy, practical, and cost-\\neffective for organizations of all sizes. The tools include:\\n•\\nAmazon Bedrock, a new managed service that offers customers the easiest way to build and scale enterprise-\\nready generative AI applications. Amazon Bedrock provides easy access to leading foundation models (ultra-\\nlarge machine learning models that generative AI relies on) from AI startups like AI21 Labs, Anthropic, and \\nStability AI, as well as exclusive access to the Titan family of foundation models developed by AWS. Broad \\naccess to models gives customers flexibility and choice to customize and scale to their specific needs.\\n•\\nTwo next-generation compute offerings to deliver the lowest cost for training models and running inference in \\nthe cloud: the general availability of instances powered by AWS-designed Inferentia2 chips, AWS’s second-\\ngeneration accelerator, purpose-built for deep learning inference, as well as the general availability of \\nnetwork-optimized Trn1n instances for large, network-intensive models. Compared to other EC2 instances, \\nInferentia2 provides up to 40% better inference price performance, and Trainium delivers up to 50% savings \\non training costs.\\n•\\nGeneral availability of Amazon CodeWhisperer, an AI coding companion that improves developer \\nproductivity by generating code suggestions in real time. Amazon CodeWhisperer is free for individual \\ndevelopers. CodeWhisperer is the most accurate, fastest, and most secure way to generate code for AWS \\nservices, including Amazon EC2, AWS Lambda, and Amazon S3. During a productivity challenge, \\nparticipants who used CodeWhisperer completed tasks 57% faster (on average) and were 27% more likely to \\ncomplete them successfully than those who didn’t use CodeWhisperer. \\n•\\nReceived Zoox’s driverless testing permit from the California Department of Motor Vehicles, marking a key step to \\ncommercializing the self-driving robotaxi for the general public. With this permit, Zoox completed an initial run of its \\nshuttle service for employees at its headquarters in Foster City, California, making it the first purpose-built robotaxi to \\noperate on public roads in California.\\n•\\nExpanded the Ring lineup with new devices. Ring Battery Doorbell Plus offers improved HD video and energy-saving \\nfeatures, and Ring Peephole Cam is an apartment and renter-friendly video doorbell that easily installs over an existing \\ndoor peephole.\\n•\\nExpanded the Amazon-built TV lineup with the Fire TV 2-Series, which makes getting an Alexa-enabled TV more \\naffordable than ever, and new sizes of the Omni QLED Series. The Omni QLED Series includes features so customers \\ncan see their schedule on the screen, control smart devices, and turn the TV into an in-home art gallery. Amazon has \\nsurpassed 200 million Fire TV devices sold globally. Amazon also launched Amazon-built TVs in Germany, Mexico, \\nand the UK, and collaborated with Cochlear to help people with hearing loss stream sound from their Amazon smart \\nTVs directly to their Cochlear hearing implants. \\n•\\nUnveiled three customer terminal designs for Project Kuiper, Amazon’s low Earth orbit satellite broadband initiative. \\nKuiper’s mission is to bridge the digital divide by providing fast, affordable broadband to communities worldwide that \\nare unserved or underserved by traditional technologies. To use Kuiper’s broadband, residential and commercial \\ncustomers will install an outdoor antenna, called a customer terminal, to communicate with satellites overhead. \\nAmazon is preparing to launch two prototype satellites to test the entire end-to-end communications network this year \\nand plans to be in beta with commercial customers in 2024.  \\n•\\nOpened Amazon Sidewalk to developer testing for the first time as part of the company’s vision to put a billion \\nInternet of Things (IoT) devices on the network. Amazon Sidewalk is a low-bandwidth, long-range community \\nnetwork that connects devices across long distances where Wi-Fi and Bluetooth signals often cannot reach. With \\nSidewalk coverage extending to 90% of the U.S. population, developers can now build and connect a new range of \\ndevices for the network.\\n•\\nLaunched a loyalty linking capability for Amazon One, Amazon’s palm recognition service that lets customers enter, \\nidentify, and pay. Panera is the first restaurant chain to offer the new loyalty linking capability, allowing customers to \\neasily enroll in and redeem rewards, and pay for their purchases with just their palm.\\nEmpowering employees and delivery service partners\\nIn addition to its focus on customers, Amazon strives to make every day better for its employees and delivery service partners. \\nFor example, in the first quarter, the company:\\n•\\nAnnounced plans to spend $200 million on safety technologies across Amazon’s U.S. transportation network in 2023. \\nThese innovations include front-collision warning, lane-departure warning, speed limiters, and 360-degree camera \\ndetection systems. They are part of Amazon’s work to ensure that vehicles and delivery partners are safe on the road, \\nand the innovations are better for the environment. \\n•\\nAnnounced that Amazon improved recordable incident rates worldwide by 11% from 2021 to 2022 and by almost 24% \\nfrom 2019 to 2022. The company shared the data in the second edition of its safety report, Delivered With Care, which \\ndetails how Amazon is advancing safety across its operations through investments in capital improvements, safety \\ntechnology, vehicle safety controls, and engineered ergonomic solutions to reduce risks for employees, partners, and \\ncommunities.  \\n•\\nReached 1 billion packages handled by Robin, a robotic system used across Amazon’s operations network in the U.S., \\nCanada, and Europe. Robin robotic systems use artificial intelligence, computer vision, and machine learning to help \\nemployees handle and sort customer packages before shipment. For employees, this reduces the number of repetitive \\ntasks, improving safety and helping them focus their time and energy on activities that make better use of their talents.\\n•\\nRanked No. 2 on Fortune magazine’s World’s Most Admired Companies list for the seventh year in a row. The annual \\nranking is determined by a survey of top executives and analysts, and companies are evaluated on factors including the \\nquality of their management and products, commitments to social responsibility, and ability to attract talent.\\n•\\nIntroduced Leadership Liftoff, an onboarding program for operations area managers. New managers enrolled in the \\nprogram participate in group sessions, on-the-job training, and self-paced learning to help them gain skills and \\nconfidence to lead successful teams and foster connections between new leaders. \\nSupporting communities and protecting the environment\\nAmazon believes that success and scale bring broad responsibility to help the planet, future generations, and local communities \\nin which the company has a significant presence. Amazon employees have passion for investing in these areas, and a sampling \\nof the efforts from this past quarter are that Amazon: \\n•\\nActivated the company’s global logistics network to support communities impacted by earthquakes in Türkiye and \\nSyria. The company turned its fulfillment center in Istanbul into a Disaster Relief Hub and partnered with local \\norganizations to ship hundreds of thousands of relief items to affected regions. Amazon also made cash donations to \\nnon-governmental organizations and set up donation campaigns across 16 Amazon online stores globally to make it \\neasy for customers to support communities impacted by these earthquakes. \\n•\\nSet a record in 2022 for the most renewable energy purchased by a single company in one year. Amazon’s renewable \\nenergy portfolio now includes 164 wind and solar farms and 237 rooftop solar projects in 22 countries, totaling over 20 \\ngigawatts—an amount of energy that could power 5.3 million U.S. homes. Amazon has been the largest corporate \\nbuyer of renewable energy for three years running.\\n•\\nExpanded the use of electric delivery vehicles from Rivian, as part of the company’s commitment to dramatically \\nreduce its carbon emissions. These custom vans from Rivian have now been used to deliver more than 75 million \\npackages in 500 U.S. cities and regions. Amazon began rolling out its electric delivery vans in the summer of 2022 and \\nnow has thousands on the road.\\n•\\nAnnounced over $22 million in low-rate loans and grants to help build affordable homes in Washington, D.C., and \\nCapitol Heights, Maryland. Since creating the Housing Equity Fund in 2021, Amazon has committed nearly $1.6 \\nbillion to help create or preserve affordable homes across Amazon’s hometown communities.\\n•\\nAnnounced funding for 8,000 U.S. schools to provide access to computer science education to more than 2 million \\nstudents by the end of the 2022-2023 academic year through Amazon Future Engineer. By providing professional \\ndevelopment for teachers, curriculum development, college scholarships, and internships, Amazon aims to inspire \\nmillions of students from underserved and historically underrepresented communities to pursue careers in science, \\ntechnology, engineering, and math (STEM). \\n•\\nLaunched the Zero Emission Maritime Buyers Alliance (ZEMBA) in partnership with the Aspen Institute, Patagonia, \\nand Tchibo. ZEMBA will work to reduce the climate impact of maritime shipping by helping to create sustainable \\neconomic models in renewable energy, zero-emission fuel production, infrastructure, and clean maritime services.\\n•\\nAnnounced that the Right Now Climate Fund is developing the world’s first commercial-scale seaweed farm located \\nbetween offshore wind turbines in the North Sea to help address climate change by absorbing carbon dioxide as it \\ngrows. The Fund is also helping to create and restore ecosystems for plants and animals as part of its commitment to \\nboost biodiversity and currently supports 22 rewilding initiatives in London.\\nFinancial Guidance\\nThe following forward-looking statements reflect Amazon.com’s expectations as of April 27, 2023, and are subject to \\nsubstantial uncertainty. Our results are inherently unpredictable and may be materially affected by many factors, such as \\nfluctuations in foreign exchange rates, changes in global economic and geopolitical conditions and customer demand and \\nspending (including the impact of recessionary fears), inflation, interest rates, regional labor market constraints, world events, \\nthe rate of growth of the Internet, online commerce, and cloud services, and the various factors detailed below. \\nSecond Quarter 2023 Guidance\\n•\\nNet sales are expected to be between $127.0 billion and $133.0 billion, or to grow between 5% and 10% compared \\nwith second quarter 2022. This guidance anticipates an unfavorable impact of approximately 30 basis points from \\nforeign exchange rates. \\n•\\nOperating income is expected to be between $2.0 billion and $5.5 billion, compared with $3.3 billion in second quarter \\n2022.  \\n•\\nThis guidance assumes, among other things, that no additional business acquisitions, restructurings, or legal \\nsettlements are concluded.\\nA conference call will be webcast live today at 2:30 p.m. PT/5:30 p.m. ET, and will be available for at least three months at \\namazon.com/ir. This call will contain forward-looking statements and other material information regarding the Company’s \\nfinancial and operating results.\\nThese forward-looking statements are inherently difficult to predict. Actual results and outcomes could differ materially for a \\nvariety of reasons, including, in addition to the factors discussed above, the amount that Amazon.com invests in new business \\nopportunities and the timing of those investments, the mix of products and services sold to customers, the mix of net sales \\nderived from products as compared with services, the extent to which we owe income or other taxes, competition, management \\nof growth, potential fluctuations in operating results, international growth and expansion, the outcomes of claims, litigation, \\ngovernment investigations, and other proceedings, fulfillment, sortation, delivery, and data center optimization, risks of \\ninventory management, variability in demand, the degree to which the Company enters into, maintains, and develops \\ncommercial agreements, proposed and completed acquisitions and strategic transactions, payments risks, and risks of \\nfulfillment throughput and productivity. Other risks and uncertainties include, among others, risks related to new products, \\nservices, and technologies, system interruptions, government regulation and taxation, and fraud. In addition, global economic \\nand geopolitical conditions and additional or unforeseen circumstances, developments, or events may give rise to or amplify \\nmany of these risks. More information about factors that potentially could affect Amazon.com’s financial results is included in \\nAmazon.com’s filings with the Securities and Exchange Commission (“SEC”), including its most recent Annual Report on \\nForm 10-K and subsequent filings.\\nOur investor relations website is amazon.com/ir and we encourage investors to use it as a way of easily finding information \\nabout us. We promptly make available on this website, free of charge, the reports that we file or furnish with the SEC, corporate \\ngovernance information (including our Code of Business Conduct and Ethics), and select press releases, which may contain \\nmaterial information about us, and you may subscribe to be notified of new information posted to this site.\\nAbout Amazon\\nAmazon is guided by four principles: customer obsession rather than competitor focus, passion for invention, commitment to \\noperational excellence, and long-term thinking. Amazon strives to be Earth’s Most Customer-Centric Company, Earth’s Best \\nEmployer, and Earth’s Safest Place to Work. Customer reviews, 1-Click shopping, personalized recommendations, Prime, \\nFulfillment by Amazon, AWS, Kindle Direct Publishing, Kindle, Career Choice, Fire tablets, Fire TV, Amazon Echo, Alexa, \\nJust Walk Out technology, Amazon Studios, and The Climate Pledge are some of the things pioneered by Amazon. For more \\ninformation, visit amazon.com/about and follow @AmazonNews.\\nAMAZON.COM, INC.\\nConsolidated Statements of Cash Flows\\n(in millions)\\n(unaudited) \\n  \\nThree Months Ended\\nMarch 31,\\nTwelve Months Ended\\nMarch 31,\\n \\n2022\\n2023\\n2022\\n2023\\nCASH, CASH EQUIVALENTS, AND RESTRICTED CASH, BEGINNING OF PERIOD\\n$ \\n36,477 \\n$ \\n54,253 \\n$ \\n34,155 \\n$ \\n36,599 \\nOPERATING ACTIVITIES:\\nNet income (loss)\\n \\n(3,844)  \\n3,172 \\n \\n21,413 \\n \\n4,294 \\nAdjustments to reconcile net income (loss) to net cash from operating activities:\\nDepreciation and amortization of property and equipment and capitalized content costs, operating lease assets, \\nand other\\n \\n9,193 \\n \\n11,123 \\n \\n36,088 \\n \\n43,851 \\nStock-based compensation\\n \\n3,250 \\n \\n4,748 \\n \\n13,701 \\n \\n21,119 \\nOther expense (income), net\\n \\n8,689 \\n \\n534 \\n \\n(4,161)  \\n8,811 \\nDeferred income taxes\\n \\n(2,001)  \\n(472)  \\n(4,014)  \\n(6,619) \\nChanges in operating assets and liabilities:\\nInventories\\n \\n(2,614)  \\n371 \\n \\n(11,797)  \\n393 \\nAccounts receivable, net and other\\n \\n(1,516)  \\n1,521 \\n \\n(17,424)  \\n(18,860) \\nAccounts payable\\n \\n(9,380)  \\n(11,264)  \\n2,488 \\n \\n1,061 \\nAccrued expenses and other\\n \\n(5,903)  \\n(5,763)  \\n280 \\n \\n(1,418) \\nUnearned revenue\\n \\n1,336 \\n \\n818 \\n \\n2,750 \\n \\n1,698 \\nNet cash provided by (used in) operating activities\\n \\n(2,790)  \\n4,788 \\n \\n39,324 \\n \\n54,330 \\nINVESTING ACTIVITIES:\\nPurchases of property and equipment\\n \\n(14,951)  \\n(14,207)  \\n(63,922)  \\n(62,901) \\nProceeds from property and equipment sales and incentives\\n \\n1,209 \\n \\n1,137 \\n \\n5,971 \\n \\n5,252 \\nAcquisitions, net of cash acquired, and other\\n \\n(6,341)  \\n(3,513)  \\n(7,696)  \\n(5,488) \\nSales and maturities of marketable securities\\n \\n22,753 \\n \\n1,115 \\n \\n64,311 \\n \\n9,963 \\nPurchases of marketable securities\\n \\n(1,764)  \\n(338)  \\n(47,246)  \\n(1,139) \\nNet cash provided by (used in) investing activities\\n \\n906 \\n \\n(15,806)  \\n(48,582)  \\n(54,313) \\nFINANCING ACTIVITIES:\\nCommon stock repurchased\\n \\n(2,666)  \\n— \\n \\n(2,666)  \\n(3,334) \\nProceeds from short-term debt, and other\\n \\n13,743 \\n \\n12,780 \\n \\n19,773 \\n \\n40,590 \\nRepayments of short-term debt, and other\\n \\n(6,231)  \\n(3,603)  \\n(11,983)  \\n(34,926) \\nProceeds from long-term debt\\n \\n— \\n \\n— \\n \\n18,892 \\n \\n21,166 \\nRepayments of long-term debt\\n \\n— \\n \\n(1,386)  \\n(1,551)  \\n(2,644) \\nPrincipal repayments of finance leases\\n \\n(2,777)  \\n(1,380)  \\n(10,534)  \\n(6,544) \\nPrincipal repayments of financing obligations\\n \\n(79)  \\n(57)  \\n(174)  \\n(226) \\nNet cash provided by (used in) financing activities\\n \\n1,990 \\n \\n6,354 \\n \\n11,757 \\n \\n14,082 \\nForeign currency effect on cash, cash equivalents, and restricted cash\\n \\n16 \\n \\n145 \\n \\n(55)  \\n(964) \\nNet increase (decrease) in cash, cash equivalents, and restricted cash\\n \\n122 \\n \\n(4,519)  \\n2,444 \\n \\n13,135 \\nCASH, CASH EQUIVALENTS, AND RESTRICTED CASH, END OF PERIOD\\n$ \\n36,599 \\n$ \\n49,734 \\n$ \\n36,599 \\n$ \\n49,734 \\nSUPPLEMENTAL CASH FLOW INFORMATION:\\nCash paid for interest on debt\\n$ \\n279 \\n$ \\n402 \\n$ \\n1,101 \\n$ \\n1,684 \\nCash paid for operating leases\\n \\n2,367 \\n \\n2,467 \\n \\n7,449 \\n \\n8,733 \\nCash paid for interest on finance leases\\n \\n107 \\n \\n81 \\n \\n471 \\n \\n348 \\nCash paid for interest on financing obligations\\n \\n58 \\n \\n59 \\n \\n178 \\n \\n208 \\nCash paid for income taxes, net of refunds\\n \\n453 \\n \\n619 \\n \\n3,340 \\n \\n6,201 \\nAssets acquired under operating leases\\n \\n2,175 \\n \\n3,626 \\n \\n24,008 \\n \\n20,251 \\nProperty and equipment acquired under finance leases, net of remeasurements and modifications\\n \\n166 \\n \\n8 \\n \\n5,160 \\n \\n517 \\nProperty and equipment recognized during the construction period of build-to-suit lease arrangements\\n \\n1,365 \\n \\n131 \\n \\n6,324 \\n \\n1,953 \\nProperty and equipment derecognized after the construction period of build-to-suit lease arrangements, with the \\nassociated leases recognized as operating\\n \\n33 \\n \\n720 \\n \\n263 \\n \\n5,845 \\nAMAZON.COM, INC.\\nConsolidated Statements of Operations\\n(in millions, except per share data)\\n(unaudited)\\n  \\nThree Months Ended\\nMarch 31,\\n2022\\n2023\\nNet product sales\\n$ \\n56,455 $ \\n56,981 \\nNet service sales\\n \\n59,989  \\n70,377 \\nTotal net sales\\n \\n116,444  \\n127,358 \\nOperating expenses:\\nCost of sales\\n \\n66,499  \\n67,791 \\nFulfillment\\n \\n20,271  \\n20,905 \\nTechnology and content\\n \\n14,842  \\n20,450 \\nSales and marketing\\n \\n8,320  \\n10,172 \\nGeneral and administrative\\n \\n2,594  \\n3,043 \\nOther operating expense (income), net\\n \\n249  \\n223 \\nTotal operating expenses\\n \\n112,775  \\n122,584 \\nOperating income\\n \\n3,669  \\n4,774 \\nInterest income\\n \\n108  \\n611 \\nInterest expense\\n \\n(472)  \\n(823) \\nOther income (expense), net\\n \\n(8,570)  \\n(443) \\nTotal non-operating expense\\n \\n(8,934)  \\n(655) \\nIncome (loss) before income taxes\\n \\n(5,265)  \\n4,119 \\nBenefit (provision) for income taxes\\n \\n1,422  \\n(948) \\nEquity-method investment activity, net of tax\\n \\n(1)  \\n1 \\nNet income (loss)\\n$ \\n(3,844) $ \\n3,172 \\nBasic earnings per share\\n$ \\n(0.38) $ \\n0.31 \\nDiluted earnings per share\\n$ \\n(0.38) $ \\n0.31 \\nWeighted-average shares used in computation of earnings per share:\\nBasic\\n \\n10,171  \\n10,250 \\nDiluted\\n \\n10,171  \\n10,347 \\nAMAZON.COM, INC.\\nConsolidated Statements of Comprehensive Income (Loss)\\n(in millions)\\n(unaudited)\\n  \\nThree Months Ended\\nMarch 31,\\n \\n2022\\n2023\\nNet income (loss)\\n$ \\n(3,844) $ \\n3,172 \\nOther comprehensive income (loss):\\nForeign currency translation adjustments, net of tax of $(16) and $(10)\\n \\n(333)  \\n386 \\nNet change in unrealized gains (losses) on available-for-sale debt securities:\\nUnrealized gains (losses), net of tax of $1 and $(29)\\n \\n(662)  \\n95 \\nReclassification adjustment for losses (gains) included in “Other income (expense), \\nnet,” net of tax of $0 and $(10)\\n \\n6  \\n33 \\nNet unrealized gains (losses) on available-for-sale debt securities\\n \\n(656)  \\n128 \\nTotal other comprehensive income (loss)\\n \\n(989)  \\n514 \\nComprehensive income (loss)\\n$ \\n(4,833) $ \\n3,686 \\nAMAZON.COM, INC.\\nSegment Information\\n(in millions)\\n(unaudited) \\n  \\nThree Months Ended\\nMarch 31,\\n2022\\n2023\\nNorth America\\nNet sales\\n$ \\n69,244 \\n$ \\n76,881 \\nOperating expenses\\n \\n70,812 \\n \\n75,983 \\nOperating income (loss)\\n$ \\n(1,568) \\n$ \\n898 \\nInternational\\nNet sales\\n$ \\n28,759 \\n$ \\n29,123 \\nOperating expenses\\n \\n30,040 \\n \\n30,370 \\nOperating loss\\n$ \\n(1,281) \\n$ \\n(1,247) \\nAWS\\nNet sales\\n$ \\n18,441 \\n$ \\n21,354 \\nOperating expenses\\n \\n11,923 \\n \\n16,231 \\nOperating income\\n$ \\n6,518 \\n$ \\n5,123 \\nConsolidated\\nNet sales\\n$ 116,444 \\n$ 127,358 \\nOperating expenses\\n \\n112,775 \\n \\n122,584 \\nOperating income\\n \\n3,669 \\n \\n4,774 \\nTotal non-operating expense\\n \\n(8,934) \\n \\n(655) \\nBenefit (provision) for income taxes\\n \\n1,422 \\n \\n(948) \\nEquity-method investment activity, net of tax\\n \\n(1) \\n \\n1 \\nNet income (loss)\\n$ \\n(3,844) \\n$ \\n3,172 \\nSegment Highlights:\\nY/Y net sales growth (decline):\\nNorth America\\n 8 %\\n 11 %\\nInternational\\n (6) \\n 1 \\nAWS\\n 37 \\n 16 \\nConsolidated\\n 7 \\n 9 \\nNet sales mix:\\nNorth America\\n 59 %\\n 60 %\\nInternational\\n 25 \\n 23 \\nAWS\\n 16 \\n 17 \\nConsolidated\\n 100 %\\n 100 %\\nAMAZON.COM, INC.\\nConsolidated Balance Sheets\\n(in millions, except per share data)\\n (unaudited)\\nDecember 31, 2022\\nMarch 31, 2023\\nASSETS\\nCurrent assets:\\nCash and cash equivalents\\n$ \\n53,888 $ \\n49,343 \\nMarketable securities\\n \\n16,138  \\n15,062 \\nInventories\\n \\n34,405  \\n34,170 \\nAccounts receivable, net and other\\n \\n42,360  \\n37,646 \\nTotal current assets\\n \\n146,791  \\n136,221 \\nProperty and equipment, net\\n \\n186,715  \\n190,754 \\nOperating leases\\n \\n66,123  \\n68,262 \\nGoodwill\\n \\n20,288  \\n22,749 \\nOther assets\\n \\n42,758  \\n46,392 \\nTotal assets\\n$ \\n462,675 $ \\n464,378 \\nLIABILITIES AND STOCKHOLDERS’ EQUITY\\nCurrent liabilities:\\nAccounts payable\\n$ \\n79,600 $ \\n66,907 \\nAccrued expenses and other\\n \\n62,566  \\n66,382 \\nUnearned revenue\\n \\n13,227  \\n14,281 \\nTotal current liabilities\\n \\n155,393  \\n147,570 \\nLong-term lease liabilities\\n \\n72,968  \\n74,267 \\nLong-term debt\\n \\n67,150  \\n67,084 \\nOther long-term liabilities\\n \\n21,121  \\n20,931 \\nCommitments and contingencies\\nStockholders’ equity:\\nPreferred stock ($0.01 par value; 500 shares authorized; no shares issued or \\noutstanding)\\n \\n—  \\n— \\nCommon stock ($0.01 par value; 100,000 shares authorized; 10,757 and 10,773 \\nshares issued; 10,242 and 10,258 shares outstanding)\\n \\n108  \\n108 \\nTreasury stock, at cost\\n \\n(7,837)  \\n(7,837) \\nAdditional paid-in capital\\n \\n75,066  \\n79,863 \\nAccumulated other comprehensive income (loss)\\n \\n(4,487)  \\n(3,973) \\nRetained earnings\\n \\n83,193  \\n86,365 \\nTotal stockholders’ equity\\n \\n146,043  \\n154,526 \\nTotal liabilities and stockholders’ equity\\n$ \\n462,675 $ \\n464,378 \\nAMAZON.COM, INC.\\nSupplemental Financial Information and Business Metrics\\n(in millions, except per share data)\\n(unaudited)\\nQ4 2021\\nQ1 2022\\nQ2 2022\\nQ3 2022\\nQ4 2022\\nQ1 2023\\nY/Y %\\nChange\\nCash Flows and Shares\\nOperating cash flow -- trailing twelve months (TTM)\\n$ \\n46,327 \\n$ \\n39,324 \\n$ \\n35,574 \\n$ \\n39,665 \\n$ \\n46,752 \\n$ \\n54,330 \\n 38 %\\nOperating cash flow -- TTM Y/Y growth (decline)\\n (30) %\\n (41) %\\n (40) %\\n (27) %\\n 1 %\\n 38 %\\nN/A\\nPurchases of property and equipment, net of proceeds from sales and \\nincentives -- TTM\\n$ \\n55,396 \\n$ \\n57,951 \\n$ \\n59,061 \\n$ \\n59,351 \\n$ \\n58,321 \\n$ \\n57,649 \\n (1) %\\nPrincipal repayments of finance leases -- TTM\\n$ \\n11,163 \\n$ \\n10,534 \\n$ \\n9,789 \\n$ \\n8,561 \\n$ \\n7,941 \\n$ \\n6,544 \\n (38) %\\nPrincipal repayments of financing obligations -- TTM\\n$ \\n162 \\n$ \\n174 \\n$ \\n205 \\n$ \\n233 \\n$ \\n248 \\n$ \\n226 \\n 30 %\\nEquipment acquired under finance leases -- TTM (1)\\n$ \\n4,422 \\n$ \\n2,764 \\n$ \\n1,621 \\n$ \\n868 \\n$ \\n299 \\n$ \\n285 \\n (90) %\\nPrincipal repayments of all other finance leases -- TTM (2)\\n$ \\n687 \\n$ \\n714 \\n$ \\n751 \\n$ \\n706 \\n$ \\n670 \\n$ \\n625 \\n (13) %\\nFree cash flow -- TTM (3)\\n$ \\n(9,069) \\n$ \\n(18,627) \\n$ \\n(23,487) \\n$ \\n(19,686) \\n$ \\n(11,569) \\n$ \\n(3,319) \\n (82) %\\nFree cash flow less principal repayments of finance leases and \\nfinancing obligations -- TTM (4)\\n$ \\n(20,394) \\n$ \\n(29,335) \\n$ \\n(33,481) \\n$ \\n(28,480) \\n$ \\n(19,758) \\n$ \\n(10,089) \\n (66) %\\nFree cash flow less equipment finance leases and principal repayments \\nof all other finance leases and financing obligations -- TTM (5)\\n$ \\n(14,340) \\n$ \\n(22,279) \\n$ \\n(26,064) \\n$ \\n(21,493) \\n$ \\n(12,786) \\n$ \\n(4,455) \\n (80) %\\nCommon shares and stock-based awards outstanding\\n \\n10,455 \\n \\n10,454 \\n \\n10,551 \\n \\n10,597 \\n \\n10,627 \\n \\n10,625 \\n 2 %\\nCommon shares outstanding\\n \\n10,175 \\n \\n10,171 \\n \\n10,183 \\n \\n10,198 \\n \\n10,242 \\n \\n10,258 \\n 1 %\\nStock-based awards outstanding\\n \\n280 \\n \\n283 \\n \\n368 \\n \\n399 \\n \\n384 \\n \\n367 \\n 30 %\\nStock-based awards outstanding -- % of common shares outstanding\\n 2.8 %\\n 2.8 %\\n 3.6 %\\n 3.9 %\\n 3.8 %\\n 3.6 %\\nN/A\\nResults of Operations\\nWorldwide (WW) net sales\\n$ 137,412 \\n$ 116,444 \\n$ 121,234 \\n$ 127,101 \\n$ 149,204 \\n$ 127,358 \\n 9 %\\nWW net sales -- Y/Y growth, excluding F/X\\n 10 %\\n 9 %\\n 10 %\\n 19 %\\n 12 %\\n 11 %\\nN/A\\nWW net sales -- TTM\\n$ 469,822 \\n$ 477,748 \\n$ 485,902 \\n$ 502,191 \\n$ 513,983 \\n$ 524,897 \\n 10 %\\nWW net sales -- TTM Y/Y growth, excluding F/X\\n 21 %\\n 14 %\\n 11 %\\n 12 %\\n 13 %\\n 13 %\\nN/A\\nOperating income\\n$ \\n3,460 \\n$ \\n3,669 \\n$ \\n3,317 \\n$ \\n2,525 \\n$ \\n2,737 \\n$ \\n4,774 \\n 30 %\\nF/X impact -- favorable\\n$ \\n57 \\n$ \\n126 \\n$ \\n165 \\n$ \\n357 \\n$ \\n213 \\n$ \\n139 \\nN/A\\nOperating income -- Y/Y growth (decline), excluding F/X\\n (50) %\\n (60) %\\n (59) %\\n (55) %\\n (27) %\\n 26 %\\nN/A\\nOperating margin -- % of WW net sales\\n 2.5 %\\n 3.2 %\\n 2.7 %\\n 2.0 %\\n 1.8 %\\n 3.7 %\\nN/A\\nOperating income -- TTM\\n$ \\n24,879 \\n$ \\n19,683 \\n$ \\n15,298 \\n$ \\n12,971 \\n$ \\n12,248 \\n$ \\n13,353 \\n (32) %\\nOperating income -- TTM Y/Y growth (decline), excluding F/X\\n 8 %\\n (30) %\\n (49) %\\n (57) %\\n (54) %\\n (37) %\\nN/A\\nOperating margin -- TTM % of WW net sales\\n 5.3 %\\n 4.1 %\\n 3.1 %\\n 2.6 %\\n 2.4 %\\n 2.5 %\\nN/A\\nNet income (loss)\\n$ \\n14,323 \\n$ \\n(3,844) \\n$ \\n(2,028) \\n$ \\n2,872 \\n$ \\n278 \\n$ \\n3,172 \\nN/A\\nNet income (loss) per diluted share\\n$ \\n1.39 \\n$ \\n(0.38) \\n$ \\n(0.20) \\n$ \\n0.28 \\n$ \\n0.03 \\n$ \\n0.31 \\nN/A\\nNet income (loss) -- TTM\\n$ \\n33,364 \\n$ \\n21,413 \\n$ \\n11,607 \\n$ \\n11,323 \\n$ \\n(2,722) \\n$ \\n4,294 \\n (80) %\\nNet income (loss) per diluted share -- TTM\\n$ \\n3.24 \\n$ \\n2.08 \\n$ \\n1.13 \\n$ \\n1.10 \\n$ \\n(0.27) \\n$ \\n0.42 \\n (80) %\\n______________________________\\n(1)\\nFor the twelve months ended March 31, 2022 and 2023, this amount relates to equipment included in “Property and equipment acquired under finance leases, net of \\nremeasurements and modifications” of $5,160 million and $517 million.\\n(2)\\nFor the twelve months ended March 31, 2022 and 2023, this amount relates to property included in “Principal repayments of finance leases” of $10,534 million and $6,544 \\nmillion.\\n(3)\\nFree cash flow is cash flow from operations reduced by “Purchases of property and equipment, net of proceeds from sales and incentives.”\\n(4)\\nFree cash flow less principal repayments of finance leases and financing obligations is free cash flow reduced by “Principal repayments of finance leases” and “Principal \\nrepayments of financing obligations.”\\n(5)\\nFree cash flow less equipment finance leases and principal repayments of all other finance leases and financing obligations is free cash flow reduced by equipment acquired \\nunder finance leases, which is included in “Property and equipment acquired under finance leases, net of remeasurements and modifications,” principal repayments of all \\nother finance lease liabilities, which is included in “Principal repayments of finance leases,” and “Principal repayments of financing obligations.” \\nAMAZON.COM, INC.\\nSupplemental Financial Information and Business Metrics\\n(in millions)\\n(unaudited)\\nQ4 2021\\nQ1 2022\\nQ2 2022\\nQ3 2022\\nQ4 2022\\nQ1 2023\\nY/Y %\\nChange\\nSegments\\nNorth America Segment:\\n  Net sales\\n$ 82,360 \\n$ 69,244 \\n$ 74,430 \\n$ 78,843 \\n$ 93,363 \\n$ 76,881 \\n 11 %\\n  Net sales -- Y/Y growth, excluding F/X\\n 9 %\\n 8 %\\n 10 %\\n 20 %\\n 14 %\\n 11 %\\nN/A\\n  Net sales -- TTM\\n$ 279,833 \\n$ 284,711 \\n$ 291,591 \\n$ 304,877 \\n$ 315,880 \\n$ 323,517 \\n 14 %\\n  Operating income (loss)\\n$ \\n(206) \\n$ (1,568) \\n$ \\n(627) \\n$ \\n(412) \\n$ \\n(240) \\n$ \\n898 \\nN/A\\n  F/X impact -- favorable\\n$ \\n32 \\n$ \\n42 \\n$ \\n61 \\n$ \\n95 \\n$ \\n76 \\n$ \\n41 \\nN/A\\n  Operating income (loss) -- Y/Y growth (decline), excluding F/X\\n (108) %\\n (147) %\\n (122) %\\n (158) %\\n 53 %\\nN/A\\nN/A\\n  Operating margin -- % of North America net sales\\n (0.2) %\\n (2.3) %\\n (0.8) %\\n (0.5) %\\n (0.3) %\\n 1.2 %\\nN/A\\n  Operating income (loss) -- TTM\\n$ 7,271 \\n$ 2,253 \\n$ (1,521) \\n$ (2,813) \\n$ (2,847) \\n$ \\n(381) \\n (117) %\\n  Operating margin -- TTM % of North America net sales\\n 2.6 %\\n 0.8 %\\n (0.5) %\\n (0.9) %\\n (0.9) %\\n (0.1) %\\nN/A\\nInternational Segment:\\n  Net sales\\n$ 37,272 \\n$ 28,759 \\n$ 27,065 \\n$ 27,720 \\n$ 34,463 \\n$ 29,123 \\n 1 %\\n  Net sales -- Y/Y growth (decline), excluding F/X\\n 3 %\\n 0 %\\n (1) %\\n 12 %\\n 5 %\\n 9 %\\nN/A\\n  Net sales -- TTM\\n$ 127,787 \\n$ 125,897 \\n$ 122,241 \\n$ 120,816 \\n$ 118,007 \\n$ 118,371 \\n (6) %\\n  Operating loss\\n$ (1,627) \\n$ (1,281) \\n$ (1,771) \\n$ (2,466) \\n$ (2,228) \\n$ (1,247) \\n (3) %\\n  F/X impact -- unfavorable\\n$ \\n(58) \\n$ \\n(79) \\n$ \\n(231) \\n$ \\n(216) \\n$ \\n(331) \\n$ \\n(174) \\nN/A\\n  Operating loss -- Y/Y growth (decline), excluding F/X\\n (533) %\\n (196) %\\n (526) %\\n 147 %\\n 17 %\\n (16) %\\nN/A\\n  Operating margin -- % of International net sales\\n (4.4) %\\n (4.5) %\\n (6.5) %\\n (8.9) %\\n (6.5) %\\n (4.3) %\\nN/A\\n  Operating loss -- TTM\\n$ \\n(924) \\n$ (3,457) \\n$ (5,590) \\n$ (7,145) \\n$ (7,746) \\n$ (7,712) \\n 123 %\\n  Operating margin -- TTM % of International net sales\\n (0.7) %\\n (2.7) %\\n (4.6) %\\n (5.9) %\\n (6.6) %\\n (6.5) %\\nN/A\\nAWS Segment:\\n  Net sales\\n$ 17,780 \\n$ 18,441 \\n$ 19,739 \\n$ 20,538 \\n$ 21,378 \\n$ 21,354 \\n 16 %\\n  Net sales -- Y/Y growth, excluding F/X\\n 40 %\\n 37 %\\n 33 %\\n 28 %\\n 20 %\\n 16 %\\nN/A\\n  Net sales -- TTM\\n$ 62,202 \\n$ 67,140 \\n$ 72,070 \\n$ 76,498 \\n$ 80,096 \\n$ 83,009 \\n 24 %\\n  Operating income\\n$ 5,293 \\n$ 6,518 \\n$ 5,715 \\n$ 5,403 \\n$ 5,205 \\n$ 5,123 \\n (21) %\\n  F/X impact -- favorable\\n$ \\n83 \\n$ \\n163 \\n$ \\n335 \\n$ \\n478 \\n$ \\n468 \\n$ \\n272 \\nN/A\\n  Operating income -- Y/Y growth (decline), excluding F/X\\n 46 %\\n 53 %\\n 28 %\\n 1 %\\n (10) %\\n (26) %\\nN/A\\n  Operating margin -- % of AWS net sales\\n 29.8 %\\n 35.3 %\\n 29.0 %\\n 26.3 %\\n 24.3 %\\n 24.0 %\\nN/A\\n  Operating income -- TTM\\n$ 18,532 \\n$ 20,887 \\n$ 22,409 \\n$ 22,929 \\n$ 22,841 \\n$ 21,446 \\n 3 %\\n  Operating margin -- TTM % of AWS net sales\\n 29.8 %\\n 31.1 %\\n 31.1 %\\n 30.0 %\\n 28.5 %\\n 25.8 %\\nN/A\\nAMAZON.COM, INC.\\nSupplemental Financial Information and Business Metrics\\n(in millions, except employee data)\\n(unaudited)\\nQ4 2021\\nQ1 2022\\nQ2 2022\\nQ3 2022\\nQ4 2022\\nQ1 2023\\nY/Y %\\nChange\\nNet Sales\\nOnline stores (1)\\n$ 66,075 \\n$ 51,129 \\n$ 50,855 \\n$ 53,489 \\n$ 64,531 \\n$ 51,096 \\n 0 %\\nOnline stores -- Y/Y growth (decline), excluding F/X\\n 1 %\\n (1) %\\n 0 %\\n 13 %\\n 2 %\\n 3 %\\nN/A\\nPhysical stores (2)\\n$ 4,688 \\n$ 4,591 \\n$ 4,721 \\n$ 4,694 \\n$ 4,957 \\n$ 4,895 \\n 7 %\\nPhysical stores -- Y/Y growth, excluding F/X\\n 16 %\\n 16 %\\n 13 %\\n 10 %\\n 6 %\\n 7 %\\nN/A\\nThird-party seller services (3)\\n$ 30,320 \\n$ 25,335 \\n$ 27,376 \\n$ 28,666 \\n$ 36,339 \\n$ 29,820 \\n 18 %\\nThird-party seller services -- Y/Y growth, excluding F/X\\n 12 %\\n 9 %\\n 13 %\\n 23 %\\n 24 %\\n 20 %\\nN/A\\nSubscription services (4)\\n$ 8,123 \\n$ 8,410 \\n$ 8,716 \\n$ 8,903 \\n$ 9,189 \\n$ 9,657 \\n 15 %\\nSubscription services -- Y/Y growth, excluding F/X\\n 16 %\\n 13 %\\n 14 %\\n 14 %\\n 17 %\\n 17 %\\nN/A\\nAdvertising services (5)\\n$ 9,716 \\n$ 7,877 \\n$ 8,757 \\n$ 9,548 \\n$ 11,557 \\n$ 9,509 \\n 21 %\\nAdvertising services -- Y/Y growth, excluding F/X\\n 33 %\\n 25 %\\n 21 %\\n 30 %\\n 23 %\\n 23 %\\nN/A\\nAWS\\n$ 17,780 \\n$ 18,441 \\n$ 19,739 \\n$ 20,538 \\n$ 21,378 \\n$ 21,354 \\n 16 %\\nAWS -- Y/Y growth, excluding F/X\\n 40 %\\n 37 %\\n 33 %\\n 28 %\\n 20 %\\n 16 %\\nN/A\\nOther (6)\\n$ \\n710 \\n$ \\n661 \\n$ 1,070 \\n$ 1,263 \\n$ 1,253 \\n$ 1,027 \\n 55 %\\nOther -- Y/Y growth, excluding F/X\\n 19 %\\n 28 %\\n 135 %\\n 168 %\\n 80 %\\n 57 %\\nN/A\\nStock-based Compensation Expense\\nCost of sales\\n$ \\n179 \\n$ \\n146 \\n$ \\n213 \\n$ \\n190 \\n$ \\n208 \\n$ \\n165 \\n 13 %\\nFulfillment\\n$ \\n565 \\n$ \\n498 \\n$ \\n763 \\n$ \\n727 \\n$ \\n757 \\n$ \\n603 \\n 21 %\\nTechnology and content\\n$ 1,903 \\n$ 1,645 \\n$ 2,814 \\n$ 3,036 \\n$ 3,126 \\n$ 2,574 \\n 56 %\\nSales and marketing\\n$ \\n726 \\n$ \\n665 \\n$ \\n990 \\n$ 1,128 \\n$ 1,092 \\n$ \\n993 \\n 49 %\\nGeneral and administrative\\n$ \\n307 \\n$ \\n296 \\n$ \\n429 \\n$ \\n475 \\n$ \\n423 \\n$ \\n413 \\n 40 %\\nTotal stock-based compensation expense\\n$ 3,680 \\n$ 3,250 \\n$ 5,209 \\n$ 5,556 \\n$ 5,606 \\n$ 4,748 \\n 46 %\\nOther\\nWW shipping costs\\n$ 23,656 \\n$ 19,560 \\n$ 19,304 \\n$ 19,942 \\n$ 24,714 \\n$ 19,937 \\n 2 %\\nWW shipping costs -- Y/Y growth\\n 10 %\\n 14 %\\n 9 %\\n 10 %\\n 4 %\\n 2 %\\nN/A\\nWW paid units -- Y/Y growth (7)\\n 3 %\\n 0 %\\n 1 %\\n 11 %\\n 8 %\\n 8 %\\nN/A\\nWW seller unit mix -- % of WW paid units (7)\\n 56 %\\n 55 %\\n 57 %\\n 58 %\\n 59 %\\n 59 %\\nN/A\\nEmployees (full-time and part-time; excludes contractors & temporary personnel)\\n 1,608,000 \\n 1,622,000 \\n 1,523,000 \\n 1,544,000 \\n 1,541,000 \\n 1,465,000 \\n (10) %\\nEmployees (full-time and part-time; excludes contractors & temporary personnel) -- Y/Y \\ngrowth (decline)\\n 24 %\\n 28 %\\n 14 %\\n 5 %\\n (4) %\\n (10) %\\nN/A\\n________________________\\n(1)\\nIncludes product sales and digital media content where we record revenue gross. We leverage our retail infrastructure to offer a wide selection of consumable and durable \\ngoods that includes media products available in both a physical and digital format, such as books, videos, games, music, and software. These product sales include digital \\nproducts sold on a transactional basis. Digital product subscriptions that provide unlimited viewing or usage rights are included in “Subscription services.” \\n(2)\\nIncludes product sales where our customers physically select items in a store. Sales to customers who order goods online for delivery or pickup at our physical stores are \\nincluded in “Online stores.” \\n(3)\\nIncludes commissions and any related fulfillment and shipping fees, and other third-party seller services. \\n(4)\\nIncludes annual and monthly fees associated with Amazon Prime memberships, as well as digital video, audiobook, digital music, e-book, and other non-AWS subscription \\nservices.\\n(5)\\nIncludes sales of advertising services to sellers, vendors, publishers, authors, and others, through programs such as sponsored ads, display, and video advertising. \\n(6)\\nIncludes sales related to various other offerings, such as certain licensing and distribution of video content, shipping services, and health care services, and our co-branded \\ncredit card agreements.\\n(7)\\nExcludes the impact of Whole Foods Market.\\nAmazon.com, Inc.\\nCertain Definitions\\nCustomer Accounts\\n•\\nReferences to customers mean customer accounts established when a customer places an order through one of our \\nstores. Customer accounts exclude certain customers, including customers associated with certain of our acquisitions, \\nAmazon Payments customers, AWS customers, and the customers of select companies with whom we have a \\ntechnology alliance or marketing and promotional relationship. Customers are considered active when they have \\nplaced an order during the preceding twelve-month period.\\nSeller Accounts\\n•\\nReferences to sellers means seller accounts, which are established when a seller receives an order from a customer \\naccount. Sellers are considered active when they have received an order from a customer during the preceding twelve-\\nmonth period.\\nAWS Customers\\n•\\nReferences to AWS customers mean unique AWS customer accounts, which are unique customer account IDs that are \\neligible to use AWS services. This includes AWS accounts in the AWS free tier. Multiple users accessing AWS \\nservices via one account ID are counted as a single account. Customers are considered active when they have had \\nAWS usage activity during the preceding one-month period.\\nUnits\\n•\\nReferences to units mean physical and digital units sold (net of returns and cancellations) by us and sellers in our \\nstores as well as Amazon-owned items sold in other stores. Units sold are paid units and do not include units \\nassociated with AWS, certain acquisitions, certain subscriptions, rental businesses, or advertising businesses, or \\nAmazon gift cards.\\nContacts:\\nAmazon Investor Relations\\n \\nAmazon Public Relations\\nDave Fildes, amazon-ir@amazon.com\\n \\nDan Perlet, amazon-pr@amazon.com\\namazon.com/ir\\n \\namazon.com/pr\\n'"
      ]
     },
     "execution_count": 45,
     "metadata": {},
     "output_type": "execute_result"
    }
   ],
   "source": [
    "text = ''.join(page_content)\n",
    "text"
   ]
  },
  {
   "cell_type": "markdown",
   "metadata": {},
   "source": [
    "## Chunking Data"
   ]
  },
  {
   "cell_type": "markdown",
   "metadata": {},
   "source": [
    "LLMs typically have a token limit. Chunking involves dividing a lengthy text into smaller sections that an LLM can process more efficiently.\n",
    "\n",
    "These chunks should be of standard size (at minimum) containing answers to common questions. This is because sometimes the question have answers at multiple locations within the document. We would ideally want to capture all disparate parts of the document(s) containing the answers, link them together, and pass to an LLM for answering based on these filtered and concatenated document chunks.\n",
    "\n",
    "<img src='https://miro.medium.com/v2/resize:fit:1100/format:webp/0*Scnotjdxjfc86ONP' width=500>\n",
    "\n",
    "The maximum context length is basically the maximum length for concatenating various chunks together, includes: question, context, and answer.\n",
    "\n",
    "5 levels of chunking:\n",
    "- **Fixed Size Chunking**: \n",
    "    - without considering the content or structure. \n",
    "    - simple to implement but may result in chunks that lack coherence or context.\n",
    "- **Recursive Chunking**: splits the text into smaller chunks using a set of separators (like newlines or spaces) in a hierarchical and iterative manner.\n",
    "- **Document Based Chunking**: split based on inherent structure, such as markdown formatting, code syntax, or table layouts.\n",
    "\n",
    "- **Semantic Chunking**: extract semantic meaning from embeddings and assess the semantic relationship between chunks. The core idea is to keep together chunks that are semantic similar.\n",
    "    - The threshold value (the red line): decide where to split the chunk\n",
    "\n",
    "<img src='https://miro.medium.com/v2/resize:fit:1100/format:webp/1*C_pdPTvljd-nF2NLC0Bn7g.png' width=400>\n",
    "\n",
    "- **Agentic Chunking**: use a language model to determine how much and what text should be included in a chunk based on the context. The process involves:\n",
    "    - Initialize chunks using propositions extracted from text, based on a method that identifies standalone statements.\n",
    "    - These propositions are then evaluated by an LLM-based agent, which decides whether to add them to an existing chunk or create a new one.\n",
    "\n",
    "<img src='https://miro.medium.com/v2/resize:fit:1100/format:webp/1*aHXJ5wuWuh1faf_BF7i4og.png' width=500>\n",
    "\n",
    "`Cosine similarity metric` is used to compare the question with document chunks, to find the top chunks, most likely to contain the answer. It include a keyword metric to weight contexts with certain keywords. \n",
    "\n",
    "Ex: weight contexts that contain the words “abstract” or “summary” when asking the question to summarize a document."
   ]
  },
  {
   "cell_type": "markdown",
   "metadata": {},
   "source": [
    "### Fixed Size Chunk\n",
    "split up the texts into chunks, when they reach a provided maximum token length."
   ]
  },
  {
   "cell_type": "code",
   "execution_count": 46,
   "metadata": {},
   "outputs": [],
   "source": [
    "import re\n",
    "import pandas as pd\n",
    "import tiktoken\n",
    "tokenizer = tiktoken.get_encoding('cl100k_base')"
   ]
  },
  {
   "cell_type": "code",
   "execution_count": 47,
   "metadata": {},
   "outputs": [
    {
     "data": {
      "text/html": [
       "<div>\n",
       "<style scoped>\n",
       "    .dataframe tbody tr th:only-of-type {\n",
       "        vertical-align: middle;\n",
       "    }\n",
       "\n",
       "    .dataframe tbody tr th {\n",
       "        vertical-align: top;\n",
       "    }\n",
       "\n",
       "    .dataframe thead th {\n",
       "        text-align: right;\n",
       "    }\n",
       "</style>\n",
       "<table border=\"1\" class=\"dataframe\">\n",
       "  <thead>\n",
       "    <tr style=\"text-align: right;\">\n",
       "      <th></th>\n",
       "      <th>chunk</th>\n",
       "      <th>n_token</th>\n",
       "    </tr>\n",
       "  </thead>\n",
       "  <tbody>\n",
       "    <tr>\n",
       "      <th>0</th>\n",
       "      <td>AMAZON.COM ANNOUNCES FIRST QUARTER RESULTS\\nSE...</td>\n",
       "      <td>1009</td>\n",
       "    </tr>\n",
       "    <tr>\n",
       "      <th>1</th>\n",
       "      <td>Continued to delight customers with convenient...</td>\n",
       "      <td>1019</td>\n",
       "    </tr>\n",
       "    <tr>\n",
       "      <th>2</th>\n",
       "      <td>Broadridge’s LTX electronic trading platform c...</td>\n",
       "      <td>1005</td>\n",
       "    </tr>\n",
       "    <tr>\n",
       "      <th>3</th>\n",
       "      <td>Expanded the Ring lineup with new devices. Rin...</td>\n",
       "      <td>1002</td>\n",
       "    </tr>\n",
       "    <tr>\n",
       "      <th>4</th>\n",
       "      <td>Syria. The company turned its fulfillment cent...</td>\n",
       "      <td>878</td>\n",
       "    </tr>\n",
       "    <tr>\n",
       "      <th>5</th>\n",
       "      <td>These forward-looking statements are inherentl...</td>\n",
       "      <td>1006</td>\n",
       "    </tr>\n",
       "    <tr>\n",
       "      <th>6</th>\n",
       "      <td>Acquisitions, net of cash acquired, and other\\...</td>\n",
       "      <td>1022</td>\n",
       "    </tr>\n",
       "    <tr>\n",
       "      <th>7</th>\n",
       "      <td>Basic\\n \\n10,171  \\n10,250 \\nDiluted\\n \\n10,17...</td>\n",
       "      <td>1005</td>\n",
       "    </tr>\n",
       "    <tr>\n",
       "      <th>8</th>\n",
       "      <td>Accumulated other comprehensive income (loss)\\...</td>\n",
       "      <td>1014</td>\n",
       "    </tr>\n",
       "    <tr>\n",
       "      <th>9</th>\n",
       "      <td>F/X impact -- favorable\\n$ \\n57 \\n$ \\n126 \\n$ ...</td>\n",
       "      <td>985</td>\n",
       "    </tr>\n",
       "    <tr>\n",
       "      <th>10</th>\n",
       "      <td>N/A\\n  Operating income (loss) -- Y/Y growth (...</td>\n",
       "      <td>1023</td>\n",
       "    </tr>\n",
       "    <tr>\n",
       "      <th>11</th>\n",
       "      <td>Q1 2022\\nQ2 2022\\nQ3 2022\\nQ4 2022\\nQ1 2023\\nY...</td>\n",
       "      <td>988</td>\n",
       "    </tr>\n",
       "    <tr>\n",
       "      <th>12</th>\n",
       "      <td>Employees (full-time and part-time; excludes c...</td>\n",
       "      <td>657</td>\n",
       "    </tr>\n",
       "  </tbody>\n",
       "</table>\n",
       "</div>"
      ],
      "text/plain": [
       "                                                chunk  n_token\n",
       "0   AMAZON.COM ANNOUNCES FIRST QUARTER RESULTS\\nSE...     1009\n",
       "1   Continued to delight customers with convenient...     1019\n",
       "2   Broadridge’s LTX electronic trading platform c...     1005\n",
       "3   Expanded the Ring lineup with new devices. Rin...     1002\n",
       "4   Syria. The company turned its fulfillment cent...      878\n",
       "5   These forward-looking statements are inherentl...     1006\n",
       "6   Acquisitions, net of cash acquired, and other\\...     1022\n",
       "7   Basic\\n \\n10,171  \\n10,250 \\nDiluted\\n \\n10,17...     1005\n",
       "8   Accumulated other comprehensive income (loss)\\...     1014\n",
       "9   F/X impact -- favorable\\n$ \\n57 \\n$ \\n126 \\n$ ...      985\n",
       "10  N/A\\n  Operating income (loss) -- Y/Y growth (...     1023\n",
       "11  Q1 2022\\nQ2 2022\\nQ3 2022\\nQ4 2022\\nQ1 2023\\nY...      988\n",
       "12  Employees (full-time and part-time; excludes c...      657"
      ]
     },
     "execution_count": 47,
     "metadata": {},
     "output_type": "execute_result"
    }
   ],
   "source": [
    "def split_into_many(text: str, tokenizer: tiktoken.Encoding, max_tokens: int = 1024) -> list:\n",
    "    \"\"\" Function to split a string into many strings of a specified number of tokens \"\"\"\n",
    "    #A Split the text into sentences\n",
    "    #B Get the number of tokens for each sentence\n",
    "    #C Loop through the sentences and tokens joined together in a tuple\n",
    "    #D If the number of tokens so far plus the number of tokens in the current sentence is greater than the max number of tokens, then start a new chunk\n",
    "    #E add the sentence to the chunk and add the number of tokens to the total\n",
    "    sentences = re.split(r'(?<=\\n)(?=[A-Z])', text) #A\n",
    "    n_tokens = [len(tokenizer.encode(_)) for _ in sentences] #B\n",
    "    chunks = [['', 0]]\n",
    "    for sentence, n_token in zip(sentences, n_tokens): #C\n",
    "        if chunks[-1][1] + n_token > max_tokens: #D\n",
    "            chunks.append(['', 0])\n",
    "        #E\n",
    "        chunks[-1][0] += sentence\n",
    "        chunks[-1][1] += n_token\n",
    "\n",
    "    return pd.DataFrame(chunks, columns=['chunk', 'n_token'])\n",
    "\n",
    "df_chunks = split_into_many(text, tokenizer)\n",
    "df_chunks"
   ]
  },
  {
   "cell_type": "markdown",
   "metadata": {},
   "source": [
    "## Retrieval Methods"
   ]
  },
  {
   "cell_type": "markdown",
   "metadata": {},
   "source": [
    "After chunking, store these documents in an appropriate format so that relevant documents can be easily retrieved in response to future queries. There are 2 characteristic methods to retrieve relevant LLM context: keyword based retrieval and vector embeddings based retrieval."
   ]
  },
  {
   "cell_type": "markdown",
   "metadata": {},
   "source": [
    "### Keyword Based Retrieval (Sparse Retrievers)"
   ]
  },
  {
   "cell_type": "markdown",
   "metadata": {},
   "source": [
    "Sort relevant documents by keyword match. Using Term Frequency (TF) and Inverse Document Frequency (IDF).\n",
    "\n",
    "`TF` measures how often a term appears in a document. The more times a term occurs in a document, the more relevant that document is to the term.\n",
    "\n",
    "- $TF(t,d) = \\frac{\\text{number of times term } t \\text{ appears in document } d}{\\text{total number of terms in document } d}$\n",
    "\n",
    "`IDF` measures the importance of a term across the entire corpus of documents. Higher importance to terms that are rare in the corpus and lower importance to terms that are common.\n",
    "\n",
    "- $IDF(t) = \\frac{\\text{total number of documents}}{\\text{number of documents containing term }t}$\n",
    "\n",
    "The `TF-IDF` score: $TF\\text{-}IDF(t,d) = TF(t,d) \\times IDF(t)$\n",
    "\n",
    "Given a query Q containing keywords $q_{i,...,n}$ `Okapi BM25 score` of a document D:\n",
    "\n",
    "- $score(D,Q)=\\sum_{i=1}^{n}IDF(q_i).\\frac{f(q_i,D)(k_1+1)}{f(q_i,D)+k_1(1-b+b\\frac{|D|}{avgdl})}$\n",
    "\n",
    "    - $f(q_i, D)$: the number of times $q_i$ occurs in $D$.\n",
    "    - $k_1, b$: constants.\n",
    "    - $avgdl$: the average document length.\n",
    "\n",
    "BM25 characteristic:\n",
    "- $score \\in [0;1] \\\\\n",
    "\\begin{cases}\n",
    "    0 \\text{ is no keyword overlaps between Query and Document.} \\\\\n",
    "    1 \\text{  is Document contains all keywords in Query.}\n",
    "\\end{cases}\n",
    "$\n",
    "- Uses IDF to weigh the importance of terms across the corpus.\n",
    "- The term frequency $f(q_i,D)$ is normalized using a saturation function, which prevents the score from increasing linearly with term frequency. This addresses a limitation of basic TF-IDF.\n",
    "- Document length normalization $\\frac{|D|}{avgdl}$ adjusts for the fact that longer documents are more likely to have higher term frequencies."
   ]
  },
  {
   "cell_type": "code",
   "execution_count": 48,
   "metadata": {},
   "outputs": [
    {
     "data": {
      "text/plain": [
       "array([0.        , 0.48362189, 0.        ])"
      ]
     },
     "execution_count": 48,
     "metadata": {},
     "output_type": "execute_result"
    }
   ],
   "source": [
    "from rank_bm25 import BM25Okapi\n",
    "corpus = [\"Hello there how are you!\",\n",
    "          \"It is quite windy in Boston\",\n",
    "          \"How is the weather tomorrow?\"]\n",
    "tokenized_corpus = [doc.split(\" \") for doc in corpus]\n",
    "bm25 = BM25Okapi(tokenized_corpus)\n",
    "query = \"windy day\"\n",
    "tokenized_query = query.split(\" \")\n",
    "doc_scores = bm25.get_scores(tokenized_query)\n",
    "doc_scores"
   ]
  },
  {
   "cell_type": "markdown",
   "metadata": {},
   "source": [
    "`Note:` the 3rd document is related to the query too (both discuss the weather) so that the 3rd doc should have had a non-zero score.\n",
    "\n",
    "-> the concept of `semantic similarity` and `vector embeddings` comes in.\n",
    "\n",
    "`Semantic search` means that the algorithm is intelligent enough to know that '*cowboys*' and the '*wild west*' are similar concepts.\n",
    "\n",
    "This becomes important for RAG as the user types in a query that is not exactly present in the document."
   ]
  },
  {
   "cell_type": "markdown",
   "metadata": {},
   "source": [
    "### Vector Embeddings (Dense Retrievers)"
   ]
  },
  {
   "cell_type": "markdown",
   "metadata": {},
   "source": [
    "**Bi-encoder**: encode data into high-dimensional vectors and using distance metrics to measure similarity between these vectors, e.g. between user’s query and documents, then return the closest documents vectors.\n",
    "\n",
    "<img src='https://miro.medium.com/v2/resize:fit:1100/format:webp/0*W-84n-9fbXBCvAFQ' width=500>"
   ]
  },
  {
   "cell_type": "code",
   "execution_count": 49,
   "metadata": {},
   "outputs": [],
   "source": [
    "texts = ['the boy went to a party',\n",
    "         'the boy went to a party',\n",
    "         \"\"\"We found evidence of bias in our models via running the SEAT (May et al, 2019) and the Winogender (Rudinger et al, 2018) benchmarks. Together, these benchmarks consist of 7 tests that measure whether models contain implicit biases when applied to gendered names, regional names, and some stereotypes. \n",
    "         For example, we found that our models more strongly associate (a) European American names with positive sentiment, when compared to African American names, and (b) negative stereotypes with black women.\"\"\"]"
   ]
  },
  {
   "cell_type": "markdown",
   "metadata": {},
   "source": [
    "- paid version"
   ]
  },
  {
   "cell_type": "code",
   "execution_count": 50,
   "metadata": {},
   "outputs": [],
   "source": [
    "# import openai\n",
    "# openai.api_key = 'API key'\n",
    "# def get_embedding(text, model=\"text-embedding-ada-002\"):\n",
    "#     return openai.embeddings.create(input = text, model=model)['data']\n",
    "\n",
    "# response = get_embedding(texts)\n",
    "# embeddings = [item['embedding'] for item in response]"
   ]
  },
  {
   "cell_type": "markdown",
   "metadata": {},
   "source": [
    "- free version"
   ]
  },
  {
   "cell_type": "code",
   "execution_count": 51,
   "metadata": {},
   "outputs": [
    {
     "data": {
      "text/plain": [
       "300"
      ]
     },
     "execution_count": 51,
     "metadata": {},
     "output_type": "execute_result"
    }
   ],
   "source": [
    "import spacy\n",
    "nlp = spacy.load(\"en_core_web_md\") # en_core_web_md or en_core_web_trf\n",
    "def get_embedding(text, model=nlp):\n",
    "    return model(text).vector\n",
    "\n",
    "embeddings = [get_embedding(text) for text in texts]\n",
    "len(embeddings[0])"
   ]
  },
  {
   "cell_type": "code",
   "execution_count": 56,
   "metadata": {},
   "outputs": [
    {
     "data": {
      "text/plain": [
       "0"
      ]
     },
     "execution_count": 56,
     "metadata": {},
     "output_type": "execute_result"
    }
   ],
   "source": [
    "(embeddings[0] != embeddings[1]).sum()"
   ]
  },
  {
   "cell_type": "markdown",
   "metadata": {},
   "source": [
    "cosine similarity between 2 vecs"
   ]
  },
  {
   "cell_type": "code",
   "execution_count": 67,
   "metadata": {},
   "outputs": [
    {
     "name": "stdout",
     "output_type": "stream",
     "text": [
      "1.483545730707192e-09\n",
      "0.4857179978363477\n"
     ]
    }
   ],
   "source": [
    "from scipy.spatial.distance import cosine\n",
    "print(cosine(embeddings[0], embeddings[1]))\n",
    "print(cosine(embeddings[0], embeddings[2]))"
   ]
  },
  {
   "cell_type": "code",
   "execution_count": 64,
   "metadata": {},
   "outputs": [
    {
     "name": "stdout",
     "output_type": "stream",
     "text": [
      "[[1.0000001]]\n",
      "[[0.514282]]\n"
     ]
    }
   ],
   "source": [
    "from sklearn.metrics.pairwise import cosine_similarity\n",
    "print(cosine_similarity([embeddings[0]], [embeddings[1]]))\n",
    "print(cosine_similarity([embeddings[0]], [embeddings[2]]))"
   ]
  },
  {
   "cell_type": "markdown",
   "metadata": {},
   "source": [
    "`Note:` cosine (scipy) + cosine_similarity (sklearn) = 1"
   ]
  },
  {
   "cell_type": "markdown",
   "metadata": {},
   "source": [
    "### Vector Embeddings For Finding Relevant Context"
   ]
  },
  {
   "cell_type": "code",
   "execution_count": 31,
   "metadata": {},
   "outputs": [],
   "source": [
    "prompt = \"\"\"What was the sales increase for Amazon in the first quarter?\"\"\""
   ]
  },
  {
   "cell_type": "markdown",
   "metadata": {},
   "source": [
    "- paid ver"
   ]
  },
  {
   "cell_type": "code",
   "execution_count": 32,
   "metadata": {},
   "outputs": [],
   "source": [
    "# def get_completion(prompt, model=\"gpt-3.5-turbo\"):\n",
    "#     response = openai.ChatCompletion.create(\n",
    "#         model=model,\n",
    "#         temperature=0,\n",
    "#         messages=[{\"role\": \"user\", \"content\": prompt}]\n",
    "#     ) #calling OpenAI Completions endpoint\n",
    "#     return response['choices'][0]['message']['content'].strip()\n",
    "\n",
    "# get_completion(prompt)"
   ]
  },
  {
   "cell_type": "markdown",
   "metadata": {},
   "source": [
    "- free ver"
   ]
  },
  {
   "cell_type": "code",
   "execution_count": null,
   "metadata": {},
   "outputs": [
    {
     "name": "stderr",
     "output_type": "stream",
     "text": [
      "The attention mask and the pad token id were not set. As a consequence, you may observe unexpected behavior. Please pass your input's `attention_mask` to obtain reliable results.\n",
      "Setting `pad_token_id` to `eos_token_id`:None for open-end generation.\n"
     ]
    },
    {
     "name": "stdout",
     "output_type": "stream",
     "text": [
      "What was the sales increase for Amazon in the first quarter based on the context below?\n",
      "Context:\n",
      "```\n",
      "Net income was $3.2 billion in the first quarter, or $0.31 per diluted share, compared with net loss of $3.8 billion, or\n",
      "$0.38 per diluted share, in first quarter 2022. All share and per share information for comparable prior year periods\n",
      "throughout this release have been retroactively adjusted to reflect the 20-for-1 stock split effected on May 27, 2022.\n",
      "• First quarter 2023 net income includes a pre-tax valuation loss of $0.5 billion included in non-operating\n",
      "expense from the common stock investment in Rivian Automotive, Inc., compared to a pre-tax valuation loss\n",
      "of $7.6 billion from the investment in first quarter 2022.\n",
      "```\n",
      "\n",
      "###\n"
     ]
    },
    {
     "name": "stderr",
     "output_type": "stream",
     "text": [
      "c:\\Users\\dangc\\AppData\\Local\\Programs\\Python\\Python311\\Lib\\site-packages\\transformers\\tokenization_utils_base.py:1617: FutureWarning: `clean_up_tokenization_spaces` was not set. It will be set to `True` by default. This behavior will be deprecated in transformers v4.45, and will be then set to `False` by default. For more details check this issue: https://github.com/huggingface/transformers/issues/31884\n",
      "  warnings.warn(\n",
      "The attention mask and the pad token id were not set. As a consequence, you may observe unexpected behavior. Please pass your input's `attention_mask` to obtain reliable results.\n",
      "Setting `pad_token_id` to `eos_token_id`:None for open-end generation.\n"
     ]
    },
    {
     "name": "stdout",
     "output_type": "stream",
     "text": [
      "What was the sales increase for Amazon in the first quarter based on the context below?\n",
      "Context:\n",
      "```\n",
      "Net income was $3.2 billion in the first quarter, or $0.31 per diluted share, compared with net loss of $3.8 billion, or\n",
      "$0.38 per diluted share, in first quarter 2022. All share and per share information for comparable prior year periods\n",
      "throughout this release have been retroactively adjusted to reflect the 20-for-1 stock split effected on May 27, 2022.\n",
      "• First quarter 2023 net income includes a pre-tax valuation loss of $0.5 billion included in non-operating\n",
      "expense from the common stock investment in Rivian Automotive, Inc., compared to a pre-tax valuation loss\n",
      "of $7.6 billion from the investment in first quarter 2022.\n",
      "```\n",
      "Net income was $3.2 billion in the first quarter, or $0.31 per diluted\n"
     ]
    }
   ],
   "source": [
    "from transformers import AutoTokenizer, AutoModelForCausalLM\n",
    "\n",
    "def get_completion(prompt: str, model_name: str = 'gpt2') -> str:\n",
    "    # Load model and tokenizer\n",
    "    tokenizer = AutoTokenizer.from_pretrained(model_name)\n",
    "    model = AutoModelForCausalLM.from_pretrained(model_name)\n",
    "\n",
    "    inputs = tokenizer(prompt, return_tensors=\"pt\")\n",
    "    outputs = model.generate(\n",
    "        inputs.input_ids,\n",
    "        # attention_mask=inputs['attention_mask'],\n",
    "        max_new_tokens=200,\n",
    "        pad_token_id=50256,\n",
    "        num_return_sequences=1)\n",
    "    return tokenizer.decode(outputs[0], skip_special_tokens=True).strip()\n",
    "\n",
    "print(get_completion(prompt, 'gpt2'))"
   ]
  },
  {
   "cell_type": "markdown",
   "metadata": {},
   "source": [
    "`Note:` the above answer maybe not wrong, but it is not the one we are looking for. \n",
    "\n",
    "-> It is important to feed the right context to the LLM — in this case, this would be sales performance in Q1 2023. \n",
    "\n",
    "We have a choice of the three contexts below to append to the LLM:"
   ]
  },
  {
   "cell_type": "code",
   "execution_count": 34,
   "metadata": {},
   "outputs": [],
   "source": [
    "context1=\"\"\"Net sales increased 9% to $127.4 billion in the first quarter, compared with $116.4 billion in first quarter 2022.\n",
    "Excluding the $2.4 billion unfavorable impact from year-over-year changes in foreign exchange rates throughout the\n",
    "quarter, net sales increased 11% compared with first quarter 2022.\n",
    "North America segment sales increased 11% year-over-year to $76.9 billion.\n",
    "International segment sales increased 1% year-over-year to $29.1 billion, or increased 9% excluding changes\n",
    "in foreign exchange rates.\n",
    "AWS segment sales increased 16% year-over-year to $21.4 billion.\"\"\"\n",
    "\n",
    "context2=\"\"\"Operating income increased to $4.8 billion in the first quarter, compared with $3.7 billion in first quarter 2022. First\n",
    "quarter 2023 operating income includes approximately $0.5 billion of charges related to estimated severance costs.\n",
    "North America segment operating income was $0.9 billion, compared with operating loss of $1.6 billion in\n",
    "first quarter 2022.\n",
    "International segment operating loss was $1.2 billion, compared with operating loss of $1.3 billion in first\n",
    "quarter 2022.\n",
    "AWS segment operating income was $5.1 billion, compared with operating income of $6.5 billion in first\n",
    "quarter 2022.\n",
    "\"\"\"\n",
    "\n",
    "context3=\"\"\"Net income was $3.2 billion in the first quarter, or $0.31 per diluted share, compared with net loss of $3.8 billion, or\n",
    "$0.38 per diluted share, in first quarter 2022. All share and per share information for comparable prior year periods\n",
    "throughout this release have been retroactively adjusted to reflect the 20-for-1 stock split effected on May 27, 2022.\n",
    "• First quarter 2023 net income includes a pre-tax valuation loss of $0.5 billion included in non-operating\n",
    "expense from the common stock investment in Rivian Automotive, Inc., compared to a pre-tax valuation loss\n",
    "of $7.6 billion from the investment in first quarter 2022.\"\"\""
   ]
  },
  {
   "cell_type": "code",
   "execution_count": 68,
   "metadata": {},
   "outputs": [
    {
     "name": "stdout",
     "output_type": "stream",
     "text": [
      "[[0.85571593]]\n",
      "[[0.9209387]]\n",
      "[[0.9801308]]\n"
     ]
    }
   ],
   "source": [
    "for _ in [context1, context2, context3]:\n",
    "    print(cosine_similarity([get_embedding(prompt)], [get_embedding(_)]))"
   ]
  },
  {
   "cell_type": "markdown",
   "metadata": {},
   "source": [
    "`Note:` the context3 has the highest cosine similarity with the query embeddings.\n",
    "\n",
    "-> appending this context to the user input and sending it to the LLM is more likely to give an answer relevant to the user input."
   ]
  },
  {
   "cell_type": "code",
   "execution_count": null,
   "metadata": {},
   "outputs": [
    {
     "name": "stderr",
     "output_type": "stream",
     "text": [
      "The attention mask and the pad token id were not set. As a consequence, you may observe unexpected behavior. Please pass your input's `attention_mask` to obtain reliable results.\n",
      "Setting `pad_token_id` to `eos_token_id`:None for open-end generation.\n"
     ]
    },
    {
     "name": "stdout",
     "output_type": "stream",
     "text": [
      "What was the sales increase for Amazon in the first quarter based on the context below?\n",
      "Context:\n",
      "```\n",
      "Net income was $3.2 billion in the first quarter, or $0.31 per diluted share, compared with net loss of $3.8 billion, or\n",
      "$0.38 per diluted share, in first quarter 2022. All share and per share information for comparable prior year periods\n",
      "throughout this release have been retroactively adjusted to reflect the 20-for-1 stock split effected on May 27, 2022.\n",
      "• First quarter 2023 net income includes a pre-tax valuation loss of $0.5 billion included in non-operating\n",
      "expense from the common stock investment in Rivian Automotive, Inc., compared to a pre-tax valuation loss\n",
      "of $7.6 billion from the investment in first quarter 2022.\n",
      "```\n",
      "\n",
      "###                  \n"
     ]
    },
    {
     "name": "stderr",
     "output_type": "stream",
     "text": [
      "c:\\Users\\dangc\\AppData\\Local\\Programs\\Python\\Python311\\Lib\\site-packages\\transformers\\tokenization_utils_base.py:1617: FutureWarning: `clean_up_tokenization_spaces` was not set. It will be set to `True` by default. This behavior will be deprecated in transformers v4.45, and will be then set to `False` by default. For more details check this issue: https://github.com/huggingface/transformers/issues/31884\n",
      "  warnings.warn(\n",
      "The attention mask and the pad token id were not set. As a consequence, you may observe unexpected behavior. Please pass your input's `attention_mask` to obtain reliable results.\n",
      "Setting `pad_token_id` to `eos_token_id`:None for open-end generation.\n"
     ]
    },
    {
     "name": "stdout",
     "output_type": "stream",
     "text": [
      "What was the sales increase for Amazon in the first quarter based on the context below?\n",
      "Context:\n",
      "```\n",
      "Net income was $3.2 billion in the first quarter, or $0.31 per diluted share, compared with net loss of $3.8 billion, or\n",
      "$0.38 per diluted share, in first quarter 2022. All share and per share information for comparable prior year periods\n",
      "throughout this release have been retroactively adjusted to reflect the 20-for-1 stock split effected on May 27, 2022.\n",
      "• First quarter 2023 net income includes a pre-tax valuation loss of $0.5 billion included in non-operating\n",
      "expense from the common stock investment in Rivian Automotive, Inc., compared to a pre-tax valuation loss\n",
      "of $7.6 billion from the investment in first quarter 2022.\n",
      "```\n",
      "Net income was $3.2 billion in the first quarter, or $0.31 per diluted\n"
     ]
    }
   ],
   "source": [
    "prompt = f\"\"\"What was the sales increase for Amazon in the first quarter based on the context below?\n",
    "Context:\n",
    "```\n",
    "{context3}\n",
    "```\n",
    "\"\"\"\n",
    "print(get_completion(prompt, 'gpt2'))"
   ]
  },
  {
   "cell_type": "markdown",
   "metadata": {},
   "source": [
    "`Note:` better reponse with context. However, the highest similarity context is not always the best context."
   ]
  },
  {
   "cell_type": "markdown",
   "metadata": {},
   "source": [
    "### Ranking Retrieved Contexts"
   ]
  },
  {
   "cell_type": "markdown",
   "metadata": {},
   "source": [
    "Before sending retrieved data to a LLM for answer generation, the results must be ranked and filtered for relevance. The order of these results significantly impacts the LLM's output, as the initial context heavily influences its response.\n",
    "\n",
    "**Approaches for Ranking Results**\n",
    "\n",
    "1. **Cross-Encoder (described below) Re-Ranking:**  \n",
    "   - Extract a broader set of results (e.g., top 30 from a vector database).  \n",
    "   - Use a Cross-Encoder to re-rank these results and select the most relevant subset (e.g., top 10).\n",
    "\n",
    "2. **Reciprocal Rank Fusion (RRF):**\n",
    "   - Combines search results from multiple systems by prioritizing higher-ranked elements.  \n",
    "   - Scoring formula: **1 / (k + rank)**, where *rank* is the element’s position and *k* is a constant (commonly ~60).  \n",
    "   - Scores from different search systems are summed to create a final ranking.  \n",
    "   - Strength: Handles variations in scoring scales across different systems and highlights consistently high-ranking elements.  \n",
    "\n",
    "3. **LLM-Based Ranking and Evaluation:**  \n",
    "   - Directly leverage an LLM to rank and evaluate results.  \n",
    "   - Simplifies the process by letting the model determine relevance and priority."
   ]
  },
  {
   "cell_type": "markdown",
   "metadata": {},
   "source": [
    "#### Cross-Encoder"
   ]
  },
  {
   "cell_type": "markdown",
   "metadata": {},
   "source": [
    "<img src='https://miro.medium.com/v2/resize:fit:1100/format:webp/0*h98JJPZ-YSiOWwR1' width=250>\n",
    "\n",
    "- Two inputs are concatenated into a single sequence with appropriate separators (e.g., `[CLS] Query [SEP] Document [SEP]` for BERT models).  \n",
    "- The concatenated input is passed through a transformer-based model (e.g., BERT, RoBERTa).  \n",
    "- The model processes the entire sequence, considering all possible interactions between the query and document.  \n",
    "- The `[CLS]` token's output embedding (a summary of the interaction) is fed to a classification layer or a regression head to produce a similarity score or relevance label.  \n",
    "- Scores typically range between 0 and 1 for relevance or as raw logits for ranking purposes."
   ]
  },
  {
   "cell_type": "markdown",
   "metadata": {},
   "source": [
    "#### Comparison with Bi-Encoders"
   ]
  },
  {
   "cell_type": "markdown",
   "metadata": {},
   "source": [
    "| **Aspect**             | **Cross-Encoder**                             | **Bi-Encoder**                          |\n",
    "|-------------------------|-----------------------------------------------|-----------------------------------------|\n",
    "| **Interaction**         | Jointly encodes both inputs                  | Encodes inputs independently            |\n",
    "| **Precision**           | Higher (captures rich interactions)          | Lower                                   |\n",
    "| **Scalability**         | Lower (expensive for large datasets)         | Higher (pre-computed embeddings)        |\n",
    "| **Use Case**            | Re-ranking, QA                               | Initial retrieval, large-scale search   |  "
   ]
  },
  {
   "cell_type": "markdown",
   "metadata": {},
   "source": [
    "### Evaluation of Retrieved Contexts"
   ]
  },
  {
   "cell_type": "markdown",
   "metadata": {},
   "source": [
    "To assess the quality of search results and determine if changes (e.g., re-ranking) improved relevance, specific metrics are used to evaluate how well the retrieved information aligns with the query."
   ]
  },
  {
   "cell_type": "markdown",
   "metadata": {},
   "source": [
    "#### Key Metrics for Evaluation"
   ]
  },
  {
   "cell_type": "markdown",
   "metadata": {},
   "source": [
    "1. **P@K (Precision at K):**  \n",
    "   - Measures the proportion of relevant results in the top K retrieved items.  \n",
    "   - Example: If 2 out of 4 retrieved documents are relevant, P@4 = 2/4 = 0.5.  \n",
    "   - Limitation: Does not account for the order of results.\n",
    "\n",
    "2. **AP@K (Average Precision at K):**  \n",
    "   - Extends P@K by incorporating the order of relevance.  \n",
    "   - Relevant results appearing earlier in the list contribute more to the score.  \n",
    "   - Example: AP@4 = (⅓ + ½) / 2 = 0.41, considering relevance positions.  \n",
    "\n",
    "3. **MAP@K (Mean Average Precision at K):**  \n",
    "   - Computes the average AP@K across multiple queries or parameters.  \n",
    "   - Provides a more comprehensive evaluation of the system's overall performance.  \n",
    "\n",
    "4. **NDCG@K (Normalized Discounted Cumulative Gain at K):**  \n",
    "   - Evaluates the relevance of ranked results with a focus on position and quality.  \n",
    "   - Normalizes scores to make them comparable across queries."
   ]
  },
  {
   "cell_type": "markdown",
   "metadata": {},
   "source": [
    "#### Relevance Assessment"
   ]
  },
  {
   "cell_type": "markdown",
   "metadata": {},
   "source": [
    "To calculate these metrics, relevance must be determined:  \n",
    "1. **LLM-Assisted Assessment:**  \n",
    "   - Query the LLM for each retrieved document's relevance to the query.  \n",
    "   - Use specific and context-dependent questions (e.g., *\"Does this document pertain to the animal type 'rabbit'?\"*).  \n",
    "\n",
    "2. **Detailed Questions for Relevance:**  \n",
    "   - Questions should address nuanced parameters, such as whether the rabbit is metaphorical or real.  \n",
    "   - The granularity of the questions can range from a few to hundreds, depending on the evaluation criteria."
   ]
  },
  {
   "cell_type": "markdown",
   "metadata": {},
   "source": [
    "## Augmented Generation"
   ]
  },
  {
   "cell_type": "markdown",
   "metadata": {},
   "source": [
    "This step is to retrieve the context in real-time based on user input, and use the retrieved context to generate the LLM output.\n",
    "\n",
    "<img src='https://miro.medium.com/v2/resize:fit:1100/format:webp/0*K0dq67d2R1PbmNMc' width=500>\n",
    "\n",
    "Step 1: get the embeddings for the question (query).\n",
    "\n",
    "Step 2: compute pairwise distances between the input query embedding, and context embeddings.\n",
    "\n",
    "Step 3: append these contexts, ranked by similarity. If the running context length is greater than the maximum context length, the context is truncated.\n",
    "\n",
    "Step 4: the user query and relevant context are sent to the LLM, for generating the output."
   ]
  },
  {
   "cell_type": "code",
   "execution_count": null,
   "metadata": {},
   "outputs": [],
   "source": [
    "df_chunks.head()"
   ]
  },
  {
   "cell_type": "code",
   "execution_count": null,
   "metadata": {},
   "outputs": [],
   "source": [
    "def create_context(query: str, df_chunks: pd.DataFrame, max_len: int = 1800) -> str:\n",
    "    \"\"\"Create a context for a question by finding the most similar context from the dataframe\"\"\"\n",
    "    #A Get the embeddings for the question\n",
    "    #B Get the distances from the embeddings\n",
    "    #C Sort by distance and add the text to the context until the context is too long \n",
    "    #D Add the length of the text to the current length\n",
    "    #E If the context is too long, break\n",
    "    #F Else add it to the text that is being returned\n",
    "    #G Return the context\n",
    "    embedded_query = get_embedding(query)\n",
    "    df_chunks['embedded_chunk'] = df_chunks['chunk'].apply(lambda chunk: get_embedding(chunk))\n",
    "    df_chunks['similarity'] = df_chunks['embedded_chunk'].apply(lambda embedded_chunk: cosine_similarity([embedded_chunk], [embedded_query]))\n",
    "\n",
    "    sum_len = 0\n",
    "    contexts = []\n",
    "    for i, row in df_chunks.sort_values('similarity').iterrows():\n",
    "        if sum_len + row['n_token'] > max_len:\n",
    "            break\n",
    "        sum_len += row['n_token']\n",
    "        contexts.append(row['chunk'])\n",
    "\n",
    "    return '\\n\\n###\\n\\n'.join(contexts)\n",
    "\n",
    "create_context(\"What was the sales increase for Amazon in the first quarter\", df_chunks)"
   ]
  },
  {
   "cell_type": "markdown",
   "metadata": {},
   "source": [
    "Use LLM to answer the questions from the created context"
   ]
  },
  {
   "cell_type": "code",
   "execution_count": null,
   "metadata": {},
   "outputs": [],
   "source": [
    "def answer_question(df_chunks: pd.DataFrame, query: str) -> str:\n",
    "    \"\"\"Answer a question based on the most similar context from the dataframe texts\"\"\"\n",
    "    context = create_context(query, df_chunks)\n",
    "    prompt = f\"\"\"Answer the question based on the context provided.\n",
    "    Question:\n",
    "    ```{query}.```\n",
    "    Context:\n",
    "    ```{context}```\n",
    "    \"\"\"\n",
    "    return get_completion(prompt)\n",
    "\n",
    "answer_question(df_chunks, question='What was the sales increase for Amazon in the first quarter')"
   ]
  },
  {
   "cell_type": "code",
   "execution_count": null,
   "metadata": {},
   "outputs": [],
   "source": [
    "answer_question(df_chunks, question='What was the Comprehensive income (loss) for Amazon for the Three Months Ended March 31, 2022?')"
   ]
  },
  {
   "cell_type": "markdown",
   "metadata": {},
   "source": [
    "## Challenges and Solutions in the Retrieval Stage"
   ]
  },
  {
   "cell_type": "markdown",
   "metadata": {},
   "source": [
    "**Challenges:**  \n",
    "1. **Missed Top-Rank Documents**: Essential documents containing answers may not appear in the top retrieval results.  \n",
    "2. **Incorrect Specificity**: Retrieved data may lack precision or relevance to the user's specific query.  \n",
    "3. **Loss of Relevant Context During Reranking**: Relevant documents are retrieved but fail to be included in the final context for answer generation.  \n",
    "\n",
    "**Proposed Solutions:**  \n",
    "1. **Query Augmentation**: Enhance queries to improve context relevance using:  \n",
    "   - Rephrasing.  \n",
    "   - Hypothetical document embeddings.  \n",
    "   - Sub-queries for better contextualization.  \n",
    "\n",
    "2. **Tweak Retrieval Strategies**: Optimize retrieval accuracy by exploring advanced strategies like:  \n",
    "   - Small-to-big sentence window retrieval.  \n",
    "   - Recursive retrieval.  \n",
    "   - Semantic similarity scoring.  \n",
    "\n",
    "3. **Hyperparameter Tuning**: Adjust parameters to balance efficiency and retrieval quality:  \n",
    "   - **Chunk size**: Controls the text block size for retrieval.  \n",
    "   - **similarity_top_k**: Determines the number of similar chunks retrieved.  \n",
    "\n",
    "4. **Reranking**: Improve performance by reranking retrieved results before they are processed by the language model, ensuring higher relevance.\n",
    "\n",
    "<img src='https://miro.medium.com/v2/resize:fit:1100/format:webp/1*Gt9vj9vtaVN9pyc5GcyDGg.png' width=500>"
   ]
  },
  {
   "cell_type": "markdown",
   "metadata": {},
   "source": [
    "## Evaluation"
   ]
  },
  {
   "cell_type": "markdown",
   "metadata": {},
   "source": [
    "RAG evaluation involves assessing both the **retrieval** and **generation** components using specific input text. Evaluation methods are broadly divided into two categories based on how the ground truth is provided:  \n",
    "\n",
    "1. **Ground truth provided by the evaluator/user.**  \n",
    "2. **Ground truth generated by another LLM (LLM-assisted evaluation).**\n",
    "\n",
    "**Evaluation Categories and Methods:**  \n",
    "\n",
    "### 1. **Ground Truth Provided by the Evaluator/User**  \n",
    "- **Character-based Evaluation**: Compares the generated output and ground truth character by character to calculate differences.  \n",
    "- **Word-based Evaluation**: Measures differences word by word between the generated output and the ground truth.  \n",
    "- **Embedding-based Evaluation**:  \n",
    "   - Step 1: Generate embeddings for both the output and ground truth using an embedding technique.  \n",
    "   - Step 2: Measure the similarity or distance (e.g., cosine similarity) between the embeddings.  \n",
    "\n",
    "### 2. **LLM-Assisted Evaluation**  \n",
    "- **Mathematical Framework — RAGAS Score**:  \n",
    "   - A comprehensive framework evaluating retrieval and generation separately for accuracy and relevance.  \n",
    "- **Experimental Framework — GPT Score**:  \n",
    "   - Uses GPT-based evaluation on text generation tasks, assessing 22 evaluation aspects across 37 datasets through natural language instructions.\n",
    "\n",
    "<img src='https://miro.medium.com/v2/resize:fit:1100/format:webp/1*rZ7h3vGX9TXNFa23ID5ubw.png' width=600>"
   ]
  },
  {
   "cell_type": "markdown",
   "metadata": {},
   "source": [
    "## Reference"
   ]
  },
  {
   "cell_type": "markdown",
   "metadata": {},
   "source": [
    "[Your First RAG](https://medium.com/emalpha/your-first-rag-5844527aab4a)\n",
    "\n",
    "[Build RAG Application Using a LLM Running on Local Computer with GPT4All and Langchain](https://medium.com/rahasak/build-rag-application-using-a-llm-running-on-local-computer-with-gpt4all-and-langchain-13b4b8851db8)\n",
    "\n",
    "[The Many Facets of RAG: From Data to Intelligent Applications](https://levelup.gitconnected.com/the-many-facets-of-rag-from-data-to-intelligent-applications-498fbaf4b1f8)\n",
    "\n",
    "[A Complete Guide to RAG](https://pub.towardsai.net/a-complete-guide-to-rag-88374d9a4b2c)\n",
    "\n",
    "[RAG Architecture: Advanced RAG](https://pub.towardsai.net/rag-architecture-advanced-rag-3fea83e0d189)"
   ]
  }
 ],
 "metadata": {
  "kernelspec": {
   "display_name": "Python 3",
   "language": "python",
   "name": "python3"
  },
  "language_info": {
   "codemirror_mode": {
    "name": "ipython",
    "version": 3
   },
   "file_extension": ".py",
   "mimetype": "text/x-python",
   "name": "python",
   "nbconvert_exporter": "python",
   "pygments_lexer": "ipython3",
   "version": "3.11.9"
  }
 },
 "nbformat": 4,
 "nbformat_minor": 2
}
